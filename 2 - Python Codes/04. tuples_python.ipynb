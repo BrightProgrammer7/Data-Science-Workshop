{
 "cells": [
  {
   "cell_type": "markdown",
   "metadata": {},
   "source": [
    "<img src= 'https://innovatics.ai/innovatics.jpeg' width=300/>"
   ]
  },
  {
   "cell_type": "markdown",
   "metadata": {},
   "source": [
    "## 4. Tuples in Python\n",
    "\n",
    "In mathematics, a tuple is a finite ordered list (sequence) of elements. A tuple is defined as a data structure that comprises an ordered, finite sequence of immutable, heterogeneous elements that are of fixed sizes. Often, you may want to return more than one value from a function. Tuples solve this problem. They can also be used to pass multiple values through\n",
    "one function parameter.\n",
    "\n",
    "Tuples are immutable lists and cannot be changed in any way once it is created.\n",
    "\n",
    "* Tuples are defined in the same way as lists.\n",
    "* They are enclosed within parenthesis and not within square braces.\n",
    "* Tuples are ordered, indexed collections of data. \n",
    "* Similar to string indices, the first value in the tuple will have the index [0], the second value [1]\n",
    "* Negative indices are counted from the end of the tuple, just like lists.\n",
    "* Tuple also has the same structure where commas separate the values.\n",
    "* Tuples can store duplicate values.\n",
    "* Tuples allow you to store several data items including string, integer, float in one variable.\n",
    "\n",
    "**<span style='color:RED'>A tuple is a finite ordered list of values of possibly different types which is used to bundle related values together without having to create a specific type to hold them. Tuples are immutable. Once a tuple is created, you cannot change its values. A tuple is defined by putting a comma-separated list of values inside parentheses ( ). Each value inside a tuple is called an item. You can store any item of type string, number, object, another variable, and even another tuple itself. You can have a mix of different types of items in tuples, and they need not be homogeneous.<span>**"
   ]
  },
  {
   "cell_type": "markdown",
   "metadata": {},
   "source": [
    "<img src = 'https://techvidvan.com/tutorials/wp-content/uploads/sites/2/2019/12/python-tuple-functions.jpg' width= 650/ alt=\"tuples\"  />"
   ]
  },
  {
   "cell_type": "code",
   "execution_count": 1,
   "metadata": {},
   "outputs": [
    {
     "data": {
      "text/plain": [
       "('Hello',\n",
       " 'Python',\n",
       " 3.14,\n",
       " 1.618,\n",
       " True,\n",
       " False,\n",
       " 32,\n",
       " [1, 2, 3],\n",
       " {1, 2, 3},\n",
       " {'A': 3, 'B': 8},\n",
       " (0, 1))"
      ]
     },
     "execution_count": 1,
     "metadata": {},
     "output_type": "execute_result"
    }
   ],
   "source": [
    "# Take a tuple\n",
    "tuple_1 = ('Hello', 'Python', 3.14, 1.618, True, False, 32, [1,2,3], {1,2,3}, {'A': 3, 'B': 8}, (0, 1))\n",
    "tuple_1"
   ]
  },
  {
   "cell_type": "code",
   "execution_count": 2,
   "metadata": {},
   "outputs": [
    {
     "name": "stdout",
     "output_type": "stream",
     "text": [
      "<class 'tuple'>\n",
      "11\n"
     ]
    }
   ],
   "source": [
    "print(type(tuple_1))\n",
    "print(len(tuple_1))"
   ]
  },
  {
   "cell_type": "markdown",
   "metadata": {},
   "source": [
    "#### Indexing"
   ]
  },
  {
   "cell_type": "code",
   "execution_count": 3,
   "metadata": {},
   "outputs": [
    {
     "name": "stdout",
     "output_type": "stream",
     "text": [
      "Hello\n",
      "Python\n",
      "3.14\n",
      "(0, 1)\n",
      "{'A': 3, 'B': 8}\n",
      "{1, 2, 3}\n"
     ]
    }
   ],
   "source": [
    "# Printing the each value in a tuple using both positive and negative indexing\n",
    "tuple_1 = ('Hello', 'Python', 3.14, 1.618, True, False, 32, [1,2,3], {1,2,3}, {'A': 3, 'B': 8}, (0, 1))\n",
    "print(tuple_1[0])\n",
    "print(tuple_1[1])\n",
    "print(tuple_1[2])\n",
    "print(tuple_1[-1])\n",
    "print(tuple_1[-2])\n",
    "print(tuple_1[-3])"
   ]
  },
  {
   "cell_type": "code",
   "execution_count": null,
   "metadata": {},
   "outputs": [],
   "source": [
    "# Printing the type of each value in the tuple\n",
    "tuple_1 = ('Hello', 'Python', 3.14, 1.618, True, False, 32, [1,2,3], {1,2,3}, {'A': 3, 'B': 8}, (0, 1))\n",
    "print(type(tuple_1[0]))\n",
    "print(type(tuple_1[2]))\n",
    "print(type(tuple_1[4]))\n",
    "print(type(tuple_1[6]))\n",
    "print(type(tuple_1[7]))\n",
    "print(type(tuple_1[8]))\n",
    "print(type(tuple_1[9]))\n",
    "print(type(tuple_1[10]))"
   ]
  },
  {
   "cell_type": "markdown",
   "metadata": {},
   "source": [
    "#### Concatenation of tuples\n",
    "\n",
    "To concatenate tuples, **+** sign is used"
   ]
  },
  {
   "cell_type": "code",
   "execution_count": 4,
   "metadata": {},
   "outputs": [
    {
     "data": {
      "text/plain": [
       "('Hello',\n",
       " 'Python',\n",
       " 3.14,\n",
       " 1.618,\n",
       " True,\n",
       " False,\n",
       " 32,\n",
       " [1, 2, 3],\n",
       " {1, 2, 3},\n",
       " {'A': 3, 'B': 8},\n",
       " (0, 1),\n",
       " 'Hello World!',\n",
       " 2022)"
      ]
     },
     "execution_count": 4,
     "metadata": {},
     "output_type": "execute_result"
    }
   ],
   "source": [
    "tuple_2 = tuple_1 + ('Hello World!', 2022)\n",
    "tuple_2"
   ]
  },
  {
   "cell_type": "markdown",
   "metadata": {},
   "source": [
    "#### Repetition of a tuple"
   ]
  },
  {
   "cell_type": "code",
   "execution_count": 7,
   "metadata": {},
   "outputs": [
    {
     "data": {
      "text/plain": [
       "(1, 2, 3, 4, 1, 2, 3, 4)"
      ]
     },
     "execution_count": 7,
     "metadata": {},
     "output_type": "execute_result"
    }
   ],
   "source": [
    "rep_tup = (1,2,3,4)\n",
    "\n",
    "rep_tup*2"
   ]
  },
  {
   "cell_type": "markdown",
   "metadata": {},
   "source": [
    "#### Membership"
   ]
  },
  {
   "cell_type": "code",
   "execution_count": null,
   "metadata": {},
   "outputs": [],
   "source": [
    "rep_tup = (1,2,3,4)\n",
    "print(2 in rep_tup)\n",
    "print(2 not in rep_tup)\n",
    "print(5 in rep_tup)\n",
    "print(5 not in rep_tup)\n"
   ]
  },
  {
   "cell_type": "markdown",
   "metadata": {},
   "source": [
    "#### Iteration"
   ]
  },
  {
   "cell_type": "code",
   "execution_count": 15,
   "metadata": {},
   "outputs": [
    {
     "name": "stdout",
     "output_type": "stream",
     "text": [
      "1\n",
      "2\n",
      "3\n",
      "4\n",
      "Mercer\n"
     ]
    }
   ],
   "source": [
    "cup = (1,2,3,4, 'Mercer')\n",
    "\n",
    "cup\n",
    "\n",
    "for every_element in cup:\n",
    "    print(every_element)"
   ]
  },
  {
   "cell_type": "markdown",
   "metadata": {},
   "source": [
    "#### **cmp()** function\n",
    "\n",
    "It is to compare two tuples and returs *True* or *False*"
   ]
  },
  {
   "cell_type": "code",
   "execution_count": 17,
   "metadata": {},
   "outputs": [
    {
     "name": "stdout",
     "output_type": "stream",
     "text": [
      "-1\n",
      "1\n",
      "0\n"
     ]
    }
   ],
   "source": [
    "def cmp(t1, t2): \n",
    "     return bool(t1 > t2) - bool(t1 < t2)\n",
    "def cmp(t31, t4): \n",
    "     return bool(t3 > t4) - bool(t3 < t4)\n",
    "def cmp(t5, t6): \n",
    "     return bool(t5 > t6) - bool(t5 < t6)\n",
    "t1 = (1,3,5)            # Here t1 is lower than t2, since the output is -1\n",
    "t2 = (2,4,6)\n",
    "\n",
    "t3 = (5,)               # Here t3 is higher than t4 since the output is 1\n",
    "t4 = (4,)\n",
    "\n",
    "t5 = (3.14,)           # Here t5 is equal to t6 since the output is 0\n",
    "t6 = (3.14,)\n",
    "\n",
    "print(cmp(t1, t2))\n",
    "print(cmp(t3, t4))\n",
    "print(cmp(t5, t6))"
   ]
  },
  {
   "cell_type": "markdown",
   "metadata": {},
   "source": [
    "#### **min()** function"
   ]
  },
  {
   "cell_type": "code",
   "execution_count": 18,
   "metadata": {},
   "outputs": [
    {
     "data": {
      "text/plain": [
       "1"
      ]
     },
     "execution_count": 18,
     "metadata": {},
     "output_type": "execute_result"
    }
   ],
   "source": [
    "rep_tup = (1,2,3,4)\n",
    "min(rep_tup)"
   ]
  },
  {
   "cell_type": "markdown",
   "metadata": {},
   "source": [
    "#### **max()** function"
   ]
  },
  {
   "cell_type": "code",
   "execution_count": 19,
   "metadata": {},
   "outputs": [
    {
     "data": {
      "text/plain": [
       "4"
      ]
     },
     "execution_count": 19,
     "metadata": {},
     "output_type": "execute_result"
    }
   ],
   "source": [
    "rep_tup = (1,2,3,4)\n",
    "max(rep_tup)"
   ]
  },
  {
   "cell_type": "markdown",
   "metadata": {},
   "source": [
    "#### **tup(seq)** function\n",
    "\n",
    "It converts a specific sequence to a tuple"
   ]
  },
  {
   "cell_type": "code",
   "execution_count": 20,
   "metadata": {},
   "outputs": [
    {
     "data": {
      "text/plain": [
       "('A', 'T', 'G', 'C', 'G', 'T', 'A', 'T', 'T', 'G', 'C', 'C', 'A', 'T')"
      ]
     },
     "execution_count": 20,
     "metadata": {},
     "output_type": "execute_result"
    }
   ],
   "source": [
    "seq = 'ATGCGTATTGCCAT'\n",
    "tuple(seq)"
   ]
  },
  {
   "cell_type": "markdown",
   "metadata": {},
   "source": [
    "#### Slicing\n",
    "\n",
    "To obtain a new tuple from the current tuple, the slicing method is used."
   ]
  },
  {
   "cell_type": "code",
   "execution_count": 21,
   "metadata": {},
   "outputs": [
    {
     "data": {
      "text/plain": [
       "(3.14, 1.618, True, False, 32)"
      ]
     },
     "execution_count": 21,
     "metadata": {},
     "output_type": "execute_result"
    }
   ],
   "source": [
    "# Obtaining a new tuple from the index 2 to index 6\n",
    "\n",
    "tuple_1 = ('Hello', 'Python', 3.14, 1.618, True, False, 32, [1,2,3], {1,2,3}, {'A': 3, 'B': 8}, (0, 1))\n",
    "tuple_1[2:7]"
   ]
  },
  {
   "cell_type": "code",
   "execution_count": null,
   "metadata": {},
   "outputs": [],
   "source": [
    "# Obtaining tuple using negative indexing\n",
    "tuple_1 = ('Hello', 'Python', 3.14, 1.618, True, False, 32, [1,2,3], {1,2,3}, {'A': 3, 'B': 8}, (0, 1))\n",
    "tuple_1[-4:-1]"
   ]
  },
  {
   "cell_type": "markdown",
   "metadata": {},
   "source": [
    "#### **len()** function\n",
    "\n",
    "To obtain how many elements there are in the tuple, use len() function."
   ]
  },
  {
   "cell_type": "code",
   "execution_count": 30,
   "metadata": {},
   "outputs": [
    {
     "data": {
      "text/plain": [
       "11"
      ]
     },
     "execution_count": 30,
     "metadata": {},
     "output_type": "execute_result"
    }
   ],
   "source": [
    "tuple_1 = ('Hello', 'Python', 3.14, 1.618, True, False, 32, [1,2,3], {1,2,3}, {'A': 3, 'B': 8}, (0, 1))\n",
    "len(tuple_1)"
   ]
  },
  {
   "cell_type": "markdown",
   "metadata": {},
   "source": [
    "#### Sorting tuple"
   ]
  },
  {
   "cell_type": "code",
   "execution_count": 23,
   "metadata": {},
   "outputs": [
    {
     "data": {
      "text/plain": [
       "[0, 1, 2, 3, 4, 6, 7, 8, 9, 9]"
      ]
     },
     "execution_count": 23,
     "metadata": {},
     "output_type": "execute_result"
    }
   ],
   "source": [
    "# Tuples can be sorted and save as a new tuple.\n",
    "\n",
    "tuple_3 = (0,9,7,4,6,2,9,8,3,1)\n",
    "sorted_tuple_3 = sorted(tuple_3)\n",
    "sorted_tuple_3"
   ]
  },
  {
   "cell_type": "markdown",
   "metadata": {},
   "source": [
    "#### Nested tuple\n",
    "\n",
    "In Python, a tuple written inside another tuple is known as a nested tuple."
   ]
  },
  {
   "cell_type": "code",
   "execution_count": 24,
   "metadata": {},
   "outputs": [
    {
     "data": {
      "text/plain": [
       "('biotechnology',\n",
       " (0, 5),\n",
       " ('fermentation', 'ethanol'),\n",
       " (3.14, 'pi', (1.618, 'golden ratio')))"
      ]
     },
     "execution_count": 24,
     "metadata": {},
     "output_type": "execute_result"
    }
   ],
   "source": [
    "# Take  a nested tuple\n",
    "nested_tuple =('biotechnology', (0, 5), ('fermentation', 'ethanol'), (3.14, 'pi', (1.618, 'golden ratio')) )\n",
    "nested_tuple"
   ]
  },
  {
   "cell_type": "code",
   "execution_count": null,
   "metadata": {},
   "outputs": [],
   "source": [
    "# Now printing the each element of the nested tuple\n",
    "print('Item 0 of nested tuple is', nested_tuple[0])\n",
    "print('Item 1 of nested tuple is', nested_tuple[1])\n",
    "print('Item 2 of nested tuple is', nested_tuple[2])\n",
    "print('Item 3 of nested tuple is', nested_tuple[3])"
   ]
  },
  {
   "cell_type": "code",
   "execution_count": null,
   "metadata": {},
   "outputs": [],
   "source": [
    "# Using second index to access other tuples in the nested tuple\n",
    "print('Item 1, 0 of the nested tuple is', nested_tuple[1][0])\n",
    "print('Item 1, 1 of the nested tuple is', nested_tuple[1][1])\n",
    "print('Item 2, 0 of the nested tuple is', nested_tuple[2][0])\n",
    "print('Item 2, 1 of the nested tuple is', nested_tuple[2][1])\n",
    "print('Item 3, 0 of the nested tuple is', nested_tuple[3][0])\n",
    "print('Item 3, 1 of the nested tuple is', nested_tuple[3][1])\n",
    "print('Item 3, 2 of the nested tuple is', nested_tuple[3][2])\n",
    "\n",
    "# Accesing to the items in the second nested tuples using a third index\n",
    "print('Item 3, 2, 0 of the nested tuple is', nested_tuple[3][2][0])\n",
    "print('Item 3, 2, 1 of the nested tuple is', nested_tuple[3][2][1])"
   ]
  },
  {
   "cell_type": "markdown",
   "metadata": {},
   "source": [
    "#### Tuples are immutable"
   ]
  },
  {
   "cell_type": "code",
   "execution_count": 28,
   "metadata": {},
   "outputs": [],
   "source": [
    "# Take a tuple\n",
    "tuple_4 = (1,3,5,7,8)\n",
    "tuple_4[0] = 9 \n",
    "# print(tuple_4)\n",
    "\n",
    "# The output shows the tuple is immutable"
   ]
  },
  {
   "cell_type": "markdown",
   "metadata": {},
   "source": [
    "#### Delete a tuple\n",
    "\n",
    "* An element in a tuple can not be deleted since it is immutable.\n",
    "* But a whole tuple can be deleted"
   ]
  },
  {
   "cell_type": "code",
   "execution_count": 29,
   "metadata": {},
   "outputs": [
    {
     "name": "stdout",
     "output_type": "stream",
     "text": [
      "Before deleting: (1, 3, 5, 7, 8)\n"
     ]
    },
    {
     "ename": "NameError",
     "evalue": "name 'tuple_4' is not defined",
     "output_type": "error",
     "traceback": [
      "\u001b[1;31m---------------------------------------------------------------------------\u001b[0m",
      "\u001b[1;31mNameError\u001b[0m                                 Traceback (most recent call last)",
      "Input \u001b[1;32mIn [29]\u001b[0m, in \u001b[0;36m<cell line: 4>\u001b[1;34m()\u001b[0m\n\u001b[0;32m      2\u001b[0m \u001b[38;5;28mprint\u001b[39m(\u001b[38;5;124m'\u001b[39m\u001b[38;5;124mBefore deleting:\u001b[39m\u001b[38;5;124m'\u001b[39m, tuple_4)\n\u001b[0;32m      3\u001b[0m \u001b[38;5;28;01mdel\u001b[39;00m tuple_4\n\u001b[1;32m----> 4\u001b[0m \u001b[38;5;28mprint\u001b[39m(\u001b[38;5;124m'\u001b[39m\u001b[38;5;124mAfter deleting:\u001b[39m\u001b[38;5;124m'\u001b[39m, \u001b[43mtuple_4\u001b[49m)\n",
      "\u001b[1;31mNameError\u001b[0m: name 'tuple_4' is not defined"
     ]
    }
   ],
   "source": [
    "tuple_4 = (1,3,5,7,8)\n",
    "print('Before deleting:', tuple_4)\n",
    "del tuple_4\n",
    "print('After deleting:', tuple_4)"
   ]
  },
  {
   "cell_type": "markdown",
   "metadata": {},
   "source": [
    "#### **count()** method\n",
    "\n",
    "This method returns the number of time an item occurs in a tuple."
   ]
  },
  {
   "cell_type": "code",
   "execution_count": 31,
   "metadata": {},
   "outputs": [
    {
     "data": {
      "text/plain": [
       "4"
      ]
     },
     "execution_count": 31,
     "metadata": {},
     "output_type": "execute_result"
    }
   ],
   "source": [
    "tuple_5 = (1,1,3,3,5,5,5,5,6,6,7,8,9)\n",
    "tuple_5.count(5)"
   ]
  },
  {
   "cell_type": "markdown",
   "metadata": {},
   "source": [
    "#### **index()** method\n",
    "\n",
    "It returns the index of the first occurrence of the specified value in a tuple"
   ]
  },
  {
   "cell_type": "code",
   "execution_count": null,
   "metadata": {},
   "outputs": [],
   "source": [
    "tuple_5 = (1,1,3,3,5,5,5,5,6,6,7,8,9)\n",
    "print(tuple_5.index(5))\n",
    "print(tuple_5.index(1))\n",
    "print(tuple_5.index(9))"
   ]
  },
  {
   "cell_type": "markdown",
   "metadata": {},
   "source": [
    "#### One element tuple\n",
    "\n",
    "if a tuple includes only one element, you should put a comma after the element. Otherwise, it is not considered as a tuple."
   ]
  },
  {
   "cell_type": "code",
   "execution_count": null,
   "metadata": {},
   "outputs": [],
   "source": [
    "tuple_6 = (0)\n",
    "print(tuple_6)\n",
    "print(type(tuple_6))\n",
    "\n",
    "# Here, you see that the output is an integer"
   ]
  },
  {
   "cell_type": "code",
   "execution_count": null,
   "metadata": {},
   "outputs": [],
   "source": [
    "tuple_7 = (0,)\n",
    "print(tuple_7)\n",
    "print(type(tuple_7))\n",
    "\n",
    "# You see that the output is a tuple"
   ]
  }
 ],
 "metadata": {
  "interpreter": {
   "hash": "b7377f19eab4b8c2e19b4d5b732c435591579d0f123dd21b146d33dfd161e508"
  },
  "kernelspec": {
   "display_name": "Python 3",
   "language": "python",
   "name": "python3"
  },
  "language_info": {
   "codemirror_mode": {
    "name": "ipython",
    "version": 3
   },
   "file_extension": ".py",
   "mimetype": "text/x-python",
   "name": "python",
   "nbconvert_exporter": "python",
   "pygments_lexer": "ipython3",
   "version": "3.9.13"
  },
  "toc": {
   "base_numbering": 1,
   "nav_menu": {},
   "number_sections": true,
   "sideBar": true,
   "skip_h1_title": false,
   "title_cell": "Table of Contents",
   "title_sidebar": "Contents",
   "toc_cell": false,
   "toc_position": {},
   "toc_section_display": true,
   "toc_window_display": false
  }
 },
 "nbformat": 4,
 "nbformat_minor": 2
}
