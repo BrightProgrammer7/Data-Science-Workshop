{
 "cells": [
  {
   "cell_type": "markdown",
   "id": "327f8e8a",
   "metadata": {},
   "source": [
    "<img src= 'https://innovatics.ai/innovatics.jpeg' width=300/>"
   ]
  },
  {
   "cell_type": "markdown",
   "id": "356b4db0",
   "metadata": {},
   "source": [
    "# Data Structure & Data types"
   ]
  },
  {
   "cell_type": "markdown",
   "id": "18c8890a",
   "metadata": {},
   "source": [
    "<img src= 'https://www.tutorialandexample.com/wp-content/uploads/2020/12/image-5.png' width=650/>"
   ]
  },
  {
   "cell_type": "markdown",
   "id": "d2cc2ce6",
   "metadata": {},
   "source": [
    "Please note, this is not meant to be a comprehensive overview of Python or programming in general, if you have no programming experience, you should probably take access the course suplement ebook at BBDS Dropbox\n",
    "\n",
    "This notebook will just go through the basic topics in order and later explore in more details the 5 most Python used libraries:\n",
    "\n",
    "* Data types\n",
    "    * Numbers\n",
    "    * Strings\n",
    "    * Printing\n",
    "    * Lists\n",
    "    * Dictionaries\n",
    "    * Booleans\n",
    "    * Tuples \n",
    "    * Sets\n"
   ]
  },
  {
   "cell_type": "markdown",
   "id": "eb29cdcb",
   "metadata": {},
   "source": [
    "## 2. Strings\n",
    "\n",
    "String usage abounds in just about all types of applications. A string consists of a sequence of characters, which includes letters, numbers, punctuation marks and spaces. To represent strings, you can use a single quote, double quotes or triple quotes."
   ]
  },
  {
   "cell_type": "markdown",
   "id": "a6149d70",
   "metadata": {},
   "source": [
    "<img src= 'https://csharpcorner-mindcrackerinc.netdna-ssl.com/article/strings-in-python/Images/StringOperators.png' width=650/ alt=\"strings\"  />"
   ]
  },
  {
   "cell_type": "code",
   "execution_count": 2,
   "id": "ae17263d",
   "metadata": {},
   "outputs": [
    {
     "data": {
      "text/plain": [
       "\"Hello World! - this is Moroccan's class\""
      ]
     },
     "execution_count": 2,
     "metadata": {},
     "output_type": "execute_result"
    }
   ],
   "source": [
    "# Employ single quotation marks for describing a string\n",
    "\"Hello World! - this is Moroccan's class\""
   ]
  },
  {
   "cell_type": "code",
   "execution_count": null,
   "id": "5f6178a1",
   "metadata": {},
   "outputs": [],
   "source": [
    "# Employ double quotation marks for describing a string\n",
    "\"Hello World!\""
   ]
  },
  {
   "cell_type": "code",
   "execution_count": null,
   "id": "0e00c89d",
   "metadata": {},
   "outputs": [],
   "source": [
    "'''This photo released by the U.S. Navy shows the Iranian Revolutionary Guard ship Shahid Bazair, left, towing a U.S. Navy Saildrone Explorer in the Persian Gulf on Tuesday, Aug. 30, 2022. The U.S. Navy's Mideast-based 5th Fleet said Tuesday that Iran's paramilitary Revolutionary Guard seized and later let go of a U.S. sea drone in the Persian Gulf. Iran did not immediately acknowledge the incident, though it comes amid heightened tensions over Tehran's'''"
   ]
  },
  {
   "cell_type": "code",
   "execution_count": 3,
   "id": "62ee2038",
   "metadata": {},
   "outputs": [
    {
     "data": {
      "text/plain": [
       "'3 6 9 2 6 8'"
      ]
     },
     "execution_count": 3,
     "metadata": {},
     "output_type": "execute_result"
    }
   ],
   "source": [
    "# Digitals and spaces in a string\n",
    "'3 6 9 2 6 8'"
   ]
  },
  {
   "cell_type": "code",
   "execution_count": 4,
   "id": "955a7bf4",
   "metadata": {},
   "outputs": [
    {
     "data": {
      "text/plain": [
       "'@#5_]*$%^&'"
      ]
     },
     "execution_count": 4,
     "metadata": {},
     "output_type": "execute_result"
    }
   ],
   "source": [
    "# Specific characters in a string\n",
    "'@#5_]*$%^&'"
   ]
  },
  {
   "cell_type": "code",
   "execution_count": null,
   "id": "05933c0f",
   "metadata": {},
   "outputs": [],
   "source": [
    "# printing a string\n",
    "print('Hello World!')"
   ]
  },
  {
   "cell_type": "code",
   "execution_count": 5,
   "id": "15dd8058",
   "metadata": {},
   "outputs": [
    {
     "name": "stdout",
     "output_type": "stream",
     "text": [
      "Hello World!\n"
     ]
    },
    {
     "data": {
      "text/plain": [
       "'Hello World!'"
      ]
     },
     "execution_count": 5,
     "metadata": {},
     "output_type": "execute_result"
    }
   ],
   "source": [
    "# Assigning a string to a variable 'message'\n",
    "message = 'Hello World!'\n",
    "print(message)\n",
    "message"
   ]
  },
  {
   "cell_type": "markdown",
   "id": "2f6986d6",
   "metadata": {},
   "source": [
    "### Indexing of a string"
   ]
  },
  {
   "cell_type": "code",
   "execution_count": 19,
   "id": "0effe3cc",
   "metadata": {},
   "outputs": [
    {
     "name": "stdout",
     "output_type": "stream",
     "text": [
      "H\n"
     ]
    }
   ],
   "source": [
    "# printing the first element in a string\n",
    "\n",
    "message = 'Hello World!'\n",
    "\n",
    "print(message[0])"
   ]
  },
  {
   "cell_type": "code",
   "execution_count": 21,
   "id": "4830bb1a",
   "metadata": {},
   "outputs": [
    {
     "name": "stdout",
     "output_type": "stream",
     "text": [
      "H\n"
     ]
    }
   ],
   "source": [
    "print(message[-12])"
   ]
  },
  {
   "cell_type": "code",
   "execution_count": 15,
   "id": "0013be25",
   "metadata": {},
   "outputs": [
    {
     "data": {
      "text/plain": [
       "12"
      ]
     },
     "execution_count": 15,
     "metadata": {},
     "output_type": "execute_result"
    }
   ],
   "source": [
    "len(message)"
   ]
  },
  {
   "cell_type": "code",
   "execution_count": 22,
   "id": "1ea1987e",
   "metadata": {},
   "outputs": [
    {
     "ename": "IndexError",
     "evalue": "string index out of range",
     "output_type": "error",
     "traceback": [
      "\u001b[1;31m---------------------------------------------------------------------------\u001b[0m",
      "\u001b[1;31mIndexError\u001b[0m                                Traceback (most recent call last)",
      "\u001b[1;32m~\\AppData\\Local\\Temp\\ipykernel_13568\\3827550202.py\u001b[0m in \u001b[0;36m<module>\u001b[1;34m\u001b[0m\n\u001b[0;32m      1\u001b[0m \u001b[1;31m# Printing the element on index 8 in a string\u001b[0m\u001b[1;33m\u001b[0m\u001b[1;33m\u001b[0m\u001b[0m\n\u001b[1;32m----> 2\u001b[1;33m \u001b[0mprint\u001b[0m\u001b[1;33m(\u001b[0m\u001b[0mmessage\u001b[0m\u001b[1;33m[\u001b[0m\u001b[1;36m12\u001b[0m\u001b[1;33m]\u001b[0m\u001b[1;33m)\u001b[0m\u001b[1;33m\u001b[0m\u001b[1;33m\u001b[0m\u001b[0m\n\u001b[0m",
      "\u001b[1;31mIndexError\u001b[0m: string index out of range"
     ]
    }
   ],
   "source": [
    "# Printing the element on index 8 in a string\n",
    "print(message[12])"
   ]
  },
  {
   "cell_type": "code",
   "execution_count": 23,
   "id": "4f32ca1e",
   "metadata": {},
   "outputs": [
    {
     "data": {
      "text/plain": [
       "12"
      ]
     },
     "execution_count": 23,
     "metadata": {},
     "output_type": "execute_result"
    }
   ],
   "source": [
    "# lenght of a string includign spaces\n",
    "\n",
    "len(message)"
   ]
  },
  {
   "cell_type": "code",
   "execution_count": null,
   "id": "911e68ec",
   "metadata": {},
   "outputs": [],
   "source": [
    "# Printing the last element in a string\n",
    "print(message[11])\n",
    "\n",
    "# Another comment writing type is as follows using triple quotes.\n",
    "\n",
    "\"\"\"\n",
    "Although the length of the string is 12, since the indexing in Python starts with 0, \n",
    "the number of the last element is therefore 11.\n",
    "\"\"\""
   ]
  },
  {
   "cell_type": "markdown",
   "id": "f68abf50",
   "metadata": {},
   "source": [
    "### Negative indexing of a string"
   ]
  },
  {
   "cell_type": "code",
   "execution_count": null,
   "id": "04fc7295",
   "metadata": {},
   "outputs": [],
   "source": [
    "# printing the last element of a string\n",
    "print(message)\n",
    "message[-12]\n",
    "message[0]"
   ]
  },
  {
   "cell_type": "code",
   "execution_count": null,
   "id": "7344d230",
   "metadata": {},
   "outputs": [],
   "source": [
    "# printing the first element of a string\n",
    "\n",
    "message[-12]\n",
    "\n",
    "\"\"\"\n",
    "Since the negative indexing starts with -1, in this case, the negative index number \n",
    "of the first element is equal to -12.\n",
    "\"\"\""
   ]
  },
  {
   "cell_type": "code",
   "execution_count": null,
   "id": "6cf540e9",
   "metadata": {},
   "outputs": [],
   "source": [
    "print(len(message))\n",
    "len(message)"
   ]
  },
  {
   "cell_type": "code",
   "execution_count": null,
   "id": "8e07dec7",
   "metadata": {},
   "outputs": [],
   "source": [
    "len('Hello World!')"
   ]
  },
  {
   "cell_type": "markdown",
   "id": "288223e6",
   "metadata": {},
   "source": [
    "### Slicing of a string"
   ]
  },
  {
   "cell_type": "code",
   "execution_count": 26,
   "id": "f9a3a19a",
   "metadata": {},
   "outputs": [
    {
     "data": {
      "text/plain": [
       "'Hello Worl'"
      ]
     },
     "execution_count": 26,
     "metadata": {},
     "output_type": "execute_result"
    }
   ],
   "source": [
    "# Slicing on the variable 'message' with only index 0 to index 5\n",
    "message[0:10]"
   ]
  },
  {
   "cell_type": "code",
   "execution_count": null,
   "id": "5d303d84",
   "metadata": {},
   "outputs": [],
   "source": [
    "message[0]"
   ]
  },
  {
   "cell_type": "code",
   "execution_count": 27,
   "id": "0598ecdd",
   "metadata": {},
   "outputs": [
    {
     "data": {
      "text/plain": [
       "'World!'"
      ]
     },
     "execution_count": 27,
     "metadata": {},
     "output_type": "execute_result"
    }
   ],
   "source": [
    "# Slicing on the variable 'message' with only index 6 to index 12\n",
    "message[6:12]"
   ]
  },
  {
   "cell_type": "markdown",
   "id": "b983bb55",
   "metadata": {},
   "source": [
    "### Striding in a string"
   ]
  },
  {
   "cell_type": "code",
   "execution_count": null,
   "id": "71721e07",
   "metadata": {},
   "outputs": [],
   "source": [
    "message"
   ]
  },
  {
   "cell_type": "code",
   "execution_count": null,
   "id": "29c648e9",
   "metadata": {},
   "outputs": [],
   "source": [
    "# to select every second element in the variable 'message'\n",
    "\n",
    "message[::3]"
   ]
  },
  {
   "cell_type": "code",
   "execution_count": null,
   "id": "43b487a5",
   "metadata": {},
   "outputs": [],
   "source": [
    "# corporation of slicing and striding\n",
    "# get every second element in range from index 0 to index 6\n",
    "\n",
    "message[0:6:2]"
   ]
  },
  {
   "cell_type": "markdown",
   "id": "15a940e2",
   "metadata": {},
   "source": [
    "### Concatenate of strings"
   ]
  },
  {
   "cell_type": "code",
   "execution_count": 49,
   "id": "d74a0b4d",
   "metadata": {},
   "outputs": [],
   "source": [
    "message = 'How many people are living on the earth?'"
   ]
  },
  {
   "cell_type": "code",
   "execution_count": 50,
   "id": "472fc8e8",
   "metadata": {},
   "outputs": [
    {
     "data": {
      "text/plain": [
       "40"
      ]
     },
     "execution_count": 50,
     "metadata": {},
     "output_type": "execute_result"
    }
   ],
   "source": [
    "len(message)"
   ]
  },
  {
   "cell_type": "code",
   "execution_count": null,
   "id": "8b332d5f",
   "metadata": {},
   "outputs": [],
   "source": [
    "message = 'Hello World!'\n",
    "question = ' How many people are living on the earth?'\n",
    "\n",
    "statement = message + question\n",
    "statement"
   ]
  },
  {
   "cell_type": "code",
   "execution_count": null,
   "id": "f8c0ae9b",
   "metadata": {},
   "outputs": [],
   "source": [
    "# printing a string for 4 times\n",
    "4*\" Hello World!\""
   ]
  },
  {
   "cell_type": "markdown",
   "id": "84240600",
   "metadata": {},
   "source": [
    "### Escape sequences"
   ]
  },
  {
   "cell_type": "code",
   "execution_count": null,
   "id": "8653c2d6",
   "metadata": {},
   "outputs": [],
   "source": [
    "data = np.read_csv('C:\\Users\\medwa\\OneDrive\\Desktop')"
   ]
  },
  {
   "cell_type": "code",
   "execution_count": null,
   "id": "c6729e83",
   "metadata": {},
   "outputs": [],
   "source": [
    "# New line escape sequence\n",
    "print('Hello World! \\nHow many people are living on the earth?')"
   ]
  },
  {
   "cell_type": "code",
   "execution_count": null,
   "id": "2f1f2799",
   "metadata": {},
   "outputs": [],
   "source": [
    "# Tab escape sequence\n",
    "print('Hello World! \\tHow many people are living on the earth?')"
   ]
  },
  {
   "cell_type": "code",
   "execution_count": null,
   "id": "4bad80dd",
   "metadata": {},
   "outputs": [],
   "source": [
    "# back slash in a string\n",
    "print('Hello World! \\\\ How many people are living on the earth?')\n",
    "\n",
    "# r will say python that a string will be show as a raw string\n",
    "print(r'Hello World! \\ How many people are living on the earth?')"
   ]
  },
  {
   "cell_type": "markdown",
   "id": "bc28bbc0",
   "metadata": {},
   "source": [
    "### String operations"
   ]
  },
  {
   "cell_type": "code",
   "execution_count": 33,
   "id": "81111838",
   "metadata": {},
   "outputs": [
    {
     "name": "stdout",
     "output_type": "stream",
     "text": [
      "Before uppercase:  hello python!\n",
      "After uppercase:  HELLO PYTHON!\n",
      "Again lowercase:  hello python!\n",
      "The first element of the string is uppercase:  Hello Python!\n"
     ]
    }
   ],
   "source": [
    "message = 'hello python!'\n",
    "print('Before uppercase: ', message )\n",
    "\n",
    "# # convert uppercase the elements in a string\n",
    "message_upper = message.upper()\n",
    "print('After uppercase: ', message_upper)\n",
    "\n",
    "# # convert lowercase the elements in a string\n",
    "message_lower = message.lower()\n",
    "print('Again lowercase: ', message_lower)\n",
    "\n",
    "# # convert first letter of string to uppercase\n",
    "message_title = message.title()\n",
    "print('The first element of the string is uppercase: ', message_title)"
   ]
  },
  {
   "cell_type": "code",
   "execution_count": 37,
   "id": "739630f6",
   "metadata": {},
   "outputs": [
    {
     "name": "stdout",
     "output_type": "stream",
     "text": [
      "Hello Python!\n",
      "Hi Python!\n",
      "Hi Python!\n",
      "Hello World!\n"
     ]
    }
   ],
   "source": [
    "# replace() method in a string\n",
    "message = 'Hello Python!'\n",
    "print(message)\n",
    "message_hi = message.replace('Hello', 'Hi')\n",
    "print(message_hi)\n",
    "message_python = message.replace('Python', 'World')\n",
    "print(message_hi)\n",
    "print(message_python)"
   ]
  },
  {
   "cell_type": "code",
   "execution_count": 39,
   "id": "f34d3295",
   "metadata": {},
   "outputs": [
    {
     "name": "stdout",
     "output_type": "stream",
     "text": [
      "6\n"
     ]
    }
   ],
   "source": [
    "# find() method application in a string\n",
    "message = 'Hello World!'\n",
    "print(message.find('W'))\n",
    "\n",
    "# the output is the index number of the first element of the substring"
   ]
  },
  {
   "cell_type": "code",
   "execution_count": null,
   "id": "70f225de",
   "metadata": {},
   "outputs": [],
   "source": [
    "para = '''WASHINGTON — As the congressional midterms approach, President Joe Biden and Democratic candidates across the country are seeking to blunt Republican attacks, echoed in conservative media, that they have not focused on the issue of crime.\n",
    "\n",
    "Elevated crime rates continue to pose a conundrum for elected leaders, law enforcement officials and prosecutors across the country, in Republican and Democratic jurisdictions alike. The rise in violent crime that began around the start of the coronavirus pandemic has seemingly become an intractable problem, even as institutions like schools have reopened.\n",
    "\n",
    "Speaking in Wilkes-Barre, Pa., on Tuesday, President Biden touted his proposal for addressing crime, highlighting his long standing support for police officers, but also arguing that to be effective, officers needed better training and deeper connections to the communities they serve. He also called for stricter gun control law.'''"
   ]
  },
  {
   "cell_type": "code",
   "execution_count": null,
   "id": "4d5205cc",
   "metadata": {},
   "outputs": [],
   "source": [
    "para2= para.title()\n",
    "#para2.replace('Mo Medwani', 'Law')"
   ]
  },
  {
   "cell_type": "code",
   "execution_count": null,
   "id": "982c2b77",
   "metadata": {},
   "outputs": [],
   "source": [
    "para2 = para.capitalize()\n",
    "para2"
   ]
  },
  {
   "cell_type": "code",
   "execution_count": null,
   "id": "cb7104e0",
   "metadata": {},
   "outputs": [],
   "source": [
    "# find() method application to obtain a  substring in a string\n",
    "para2.find('Brook Adams')"
   ]
  },
  {
   "cell_type": "code",
   "execution_count": null,
   "id": "2bff47a4",
   "metadata": {},
   "outputs": [],
   "source": [
    "# if cannot find the substring in a string, the output is -1.\n",
    "message.find('cndsjnd')"
   ]
  },
  {
   "cell_type": "code",
   "execution_count": null,
   "id": "04e484ce",
   "metadata": {},
   "outputs": [],
   "source": [
    "text = 'Jean-Paul Sartre somewhere observed that we each of us make our own hell out of the people around us. Had Jean-Paul known Nancy, he may have noted that at least one man, someday, might get very lucky, and make his own heaven out of one of the people around him. She will be his morning and his evening star, shining with the brightest and the softest light in his heaven. She will be the end of his wanderings, and their love will arouse the daffodils in the spring to follow the crocuses and precede the irises. Their faith in one another will be deeper than time and their eternal spirit will be seamless once again.'\n",
    "text\n",
    "# find the first index of the substring 'Nancy'\n",
    "text.find('India')"
   ]
  },
  {
   "cell_type": "code",
   "execution_count": null,
   "id": "20812cb9",
   "metadata": {},
   "outputs": [],
   "source": [
    "india ='''Looking for a cheap flight? 25% of our users found tickets from Atlanta to India for the following prices or less: to Ahmedabad $578 one-way - $1,246 round-trip, to Mumbai $486 one-way - $1,044 round-trip, to New Delhi $482 one-way - $1,035 round-trip\n",
    "Book at least 3 weeks before departure in order to get a below-average price.\n",
    "High season is considered to be June and July. The cheapest month to fly to India is September.\n",
    "Morning departure is around 9% cheaper than an evening flight, on average*.\n",
    "One of the quickest and most convenient ways to travel from downtown Atlanta to Atlanta Hartsfield-Jackson International Airport (ATL) is aboard buses offered by Greyhound USA that make the trip in around 15min for a cost of about $10.50.\n",
    "If you are driving yourself to Atlanta Hartsfield-Jackson International Airport for your flight to India, a good choice for parking is the International Park Ride that offers covered parking at a reasonable daily rate. Included in the price is a complimentary shuttle service that can take you to the terminal in about 3min.'''"
   ]
  },
  {
   "cell_type": "code",
   "execution_count": null,
   "id": "631661d5",
   "metadata": {},
   "outputs": [],
   "source": [
    "india.find('India')\n",
    "india_morocco = india.replace( \"India\", \"Morocco\")\n",
    "india_morocco"
   ]
  },
  {
   "cell_type": "code",
   "execution_count": null,
   "id": "30fb66dd",
   "metadata": {},
   "outputs": [],
   "source": [
    "# replace the substring 'Nancy' with 'Nancy Lier Cosgrove Mullis'\n",
    "text.replace('Nancy', 'Nancy Lier Cosgrove Mullis')"
   ]
  },
  {
   "cell_type": "code",
   "execution_count": null,
   "id": "f31fa821",
   "metadata": {},
   "outputs": [],
   "source": [
    "# convet the text to lower case\n",
    "text.lower()"
   ]
  },
  {
   "cell_type": "code",
   "execution_count": null,
   "id": "33fcc929",
   "metadata": {},
   "outputs": [],
   "source": [
    "# convert the first letter of the text to capital letter\n",
    "text.capitalize()"
   ]
  },
  {
   "cell_type": "code",
   "execution_count": null,
   "id": "4e7a8c13",
   "metadata": {},
   "outputs": [],
   "source": [
    "# casefold() method returns a string where all the characters are in lower case\n",
    "text.casefold()"
   ]
  },
  {
   "cell_type": "code",
   "execution_count": null,
   "id": "42bf3671",
   "metadata": {},
   "outputs": [],
   "source": [
    "# center() method will center align the string, using a specified character (space is the default) as the fill character.\n",
    "message = 'Hallo Leute!'\n",
    "message.center(50, '-')"
   ]
  },
  {
   "cell_type": "code",
   "execution_count": null,
   "id": "a48af244",
   "metadata": {},
   "outputs": [],
   "source": [
    "# count() method returns the number of elements with the specified value\n",
    "para2.count('Law')"
   ]
  },
  {
   "cell_type": "code",
   "execution_count": null,
   "id": "eb1bba77",
   "metadata": {},
   "outputs": [],
   "source": [
    "# format() method\n",
    "\"\"\"\n",
    "The format() method formats the specified value(s) and insert them inside the string's placeholder. \n",
    "The placeholder is defined using curly brackets: {}.\n",
    "\"\"\"\n",
    "\n",
    "txt = \"Hello {word}\"\n",
    "print(txt.format(word = 'World!'))\n",
    "\n",
    "message1 = 'Hi, My name is {} and I am {} years old.'\n",
    "print(message1.format('Bob', 36))\n",
    "\n",
    "message2 = 'Hi, My name is {name} and I am {number} years old.'\n",
    "print(message2.format(name ='Bob', number = 36))\n",
    "\n",
    "message3 = 'Hi, My name is {0} and I am {1} years old.'\n",
    "print(message3.format('Bob', 36))"
   ]
  },
  {
   "cell_type": "markdown",
   "id": "f26dc72d",
   "metadata": {},
   "source": [
    "### Reading Input"
   ]
  },
  {
   "cell_type": "code",
   "execution_count": null,
   "id": "23737047",
   "metadata": {},
   "outputs": [],
   "source": [
    "a = input()"
   ]
  },
  {
   "cell_type": "code",
   "execution_count": null,
   "id": "ff8d27df",
   "metadata": {},
   "outputs": [],
   "source": [
    "a.upper()"
   ]
  },
  {
   "cell_type": "markdown",
   "id": "6617efc1",
   "metadata": {},
   "source": [
    "The input function always returns a string, which is computer science terminology for a sequence of characters. If the value being read is a person’s name, the title of a book, or the name of a street, then storing the value as a string is appropriate. But if the value is numeric, such as an age, a temperature, or the cost of a meal at a restaurant, then the string entered by the user is normally converted to a number. The programmer must decide whether the result of the conversion should be an integer or a floating-point number (a number that can include digits to the right of the decimal point). Conversion to an integer is performed by calling the int function while conversion to a floating-point number is performed by calling the float function. It is common to call the int and float functions in the same assignment statement that reads an input value from the user. For example, the following statements read a customer’s name, the quantity of an item that they would like to purchase, and the item’s price. Each of these values is stored in its own variable with an assignment statement. The name is stored as a string, the quantity is stored as an integer, and the price is stored as a floating-point number."
   ]
  },
  {
   "cell_type": "code",
   "execution_count": 44,
   "id": "4b2625f1",
   "metadata": {},
   "outputs": [
    {
     "name": "stdout",
     "output_type": "stream",
     "text": [
      "Enter your name: Mo Medwani\n",
      "How many items? 100\n",
      "Cost per item? 5.0\n"
     ]
    }
   ],
   "source": [
    "name = input(\"Enter your name: \")\n",
    "quantity = int(input(\"How many items? \"))\n",
    "price = float(input(\"Cost per item? \"))"
   ]
  },
  {
   "cell_type": "code",
   "execution_count": 45,
   "id": "5f4e23ba",
   "metadata": {},
   "outputs": [
    {
     "data": {
      "text/plain": [
       "500.0"
      ]
     },
     "execution_count": 45,
     "metadata": {},
     "output_type": "execute_result"
    }
   ],
   "source": [
    "total = quantity * price\n",
    "total"
   ]
  },
  {
   "cell_type": "code",
   "execution_count": null,
   "id": "bf5e4586",
   "metadata": {},
   "outputs": [],
   "source": []
  }
 ],
 "metadata": {
  "kernelspec": {
   "display_name": "Python 3",
   "language": "python",
   "name": "python3"
  },
  "language_info": {
   "codemirror_mode": {
    "name": "ipython",
    "version": 3
   },
   "file_extension": ".py",
   "mimetype": "text/x-python",
   "name": "python",
   "nbconvert_exporter": "python",
   "pygments_lexer": "ipython3",
   "version": "3.9.13"
  },
  "toc": {
   "base_numbering": 1,
   "nav_menu": {},
   "number_sections": true,
   "sideBar": true,
   "skip_h1_title": false,
   "title_cell": "Table of Contents",
   "title_sidebar": "Contents",
   "toc_cell": false,
   "toc_position": {},
   "toc_section_display": true,
   "toc_window_display": false
  }
 },
 "nbformat": 4,
 "nbformat_minor": 5
}
