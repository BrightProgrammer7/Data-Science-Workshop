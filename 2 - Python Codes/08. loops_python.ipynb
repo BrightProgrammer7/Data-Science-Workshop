{
 "cells": [
  {
   "cell_type": "markdown",
   "id": "370a0981",
   "metadata": {},
   "source": [
    "<img src= 'https://innovatics.ai/innovatics.jpeg' width=300/>"
   ]
  },
  {
   "cell_type": "markdown",
   "id": "525a5cde",
   "metadata": {},
   "source": [
    "## 8. Loops in Python\n",
    "\n",
    "* A **for** loop is used for iterating over a sequence (that is either a list, a tuple, a dictionary, a set, or a string).\n",
    "* This is less like the **for** keyword in other programming languages, and works more like an iterator method as found in other object-orientated programming languages.\n",
    "* With the **for** loop we can execute a set of statements, once for each item in a list, tuple, set etc.\n",
    "* The **for** loop does not require an indexing variable to set beforehand.\n",
    "* With the **while** loop we can execute a set of statements as long as a condition is true.\n",
    "* Note: remember to increment **i**, or else the loop will continue forever.\n",
    "* The **while** loop requires relevant variables to be ready, in this example we need to define an indexing variable, i, which we set to 1."
   ]
  },
  {
   "cell_type": "markdown",
   "id": "c8189668",
   "metadata": {},
   "source": [
    "### **range()** function\n",
    "\n",
    "- It is helpful to think of the range object as an ordered list.\n",
    "- To loop through a set of code a specified number of times, we can use the range() function,\n",
    "- The range() function returns a sequence of numbers, starting from 0 by default, and increments by 1 (by default), and ends at a specified number."
   ]
  },
  {
   "cell_type": "code",
   "execution_count": 5,
   "id": "043fcac5",
   "metadata": {},
   "outputs": [
    {
     "name": "stdout",
     "output_type": "stream",
     "text": [
      "range(0, 5)\n",
      "range(0, 10)\n"
     ]
    }
   ],
   "source": [
    "# Take a range() function\n",
    "print(range(5))\n",
    "print(range(10))"
   ]
  },
  {
   "cell_type": "markdown",
   "id": "fd75d37a",
   "metadata": {},
   "source": [
    "### **for** loop\n",
    "\n",
    "The **for** loop enables you to execute a code block multiple times."
   ]
  },
  {
   "cell_type": "markdown",
   "id": "9d6b5c89",
   "metadata": {},
   "source": [
    "<img src=\"https://www.learnbyexample.org/wp-content/uploads/python/Python-for-Loop-Syntax.png\" width=\"500\" alt=\"for_loop\"  />"
   ]
  },
  {
   "cell_type": "code",
   "execution_count": 2,
   "id": "92820d57",
   "metadata": {},
   "outputs": [
    {
     "name": "stdout",
     "output_type": "stream",
     "text": [
      "2005\n",
      "2006\n",
      "2007\n",
      "2008\n",
      "2009\n",
      "2010\n"
     ]
    }
   ],
   "source": [
    "# Take an example\n",
    "# Diectly accessing to the elements in the list\n",
    "\n",
    "years = [2005, 2006, 2007, 2008, 2009, 2010]\n",
    "\n",
    "for i in years:\n",
    "    print(i)"
   ]
  },
  {
   "cell_type": "code",
   "execution_count": 3,
   "id": "40ec8fcc",
   "metadata": {},
   "outputs": [
    {
     "data": {
      "text/plain": [
       "[2005, 2006, 2007, 2008, 2009, 2010]"
      ]
     },
     "execution_count": 3,
     "metadata": {},
     "output_type": "execute_result"
    }
   ],
   "source": [
    "years"
   ]
  },
  {
   "cell_type": "code",
   "execution_count": 4,
   "id": "47f49d9c",
   "metadata": {},
   "outputs": [
    {
     "name": "stdout",
     "output_type": "stream",
     "text": [
      "2005\n",
      "2006\n",
      "2007\n",
      "2008\n",
      "2009\n",
      "2010\n"
     ]
    }
   ],
   "source": [
    "# Again, directly accessing to the elements in the list\n",
    "years = [2005, 2006, 2007, 2008, 2009, 2010]\n",
    "\n",
    "for var in years:\n",
    "    print(var)"
   ]
  },
  {
   "cell_type": "code",
   "execution_count": 8,
   "id": "ffa5d68e",
   "metadata": {},
   "outputs": [
    {
     "name": "stdout",
     "output_type": "stream",
     "text": [
      "2005\n",
      "2006\n",
      "2007\n",
      "2008\n",
      "2009\n",
      "2010\n"
     ]
    }
   ],
   "source": [
    "# Take an example\n",
    "years = [2005, 2006, 2007, 2008, 2009, 2010]\n",
    "\n",
    "for i in range(len(years)):\n",
    "    print(years[i])"
   ]
  },
  {
   "cell_type": "code",
   "execution_count": 6,
   "id": "db4fa6e9",
   "metadata": {},
   "outputs": [
    {
     "data": {
      "text/plain": [
       "range(0, 6)"
      ]
     },
     "execution_count": 6,
     "metadata": {},
     "output_type": "execute_result"
    }
   ],
   "source": [
    "range(len(years))"
   ]
  },
  {
   "cell_type": "code",
   "execution_count": 19,
   "id": "c791d088",
   "metadata": {},
   "outputs": [
    {
     "data": {
      "text/plain": [
       "range(2, 12)"
      ]
     },
     "execution_count": 19,
     "metadata": {},
     "output_type": "execute_result"
    }
   ],
   "source": [
    "range(2, 12)"
   ]
  },
  {
   "cell_type": "code",
   "execution_count": 18,
   "id": "16b27a11",
   "metadata": {},
   "outputs": [
    {
     "name": "stdout",
     "output_type": "stream",
     "text": [
      "2\n",
      "3\n",
      "4\n",
      "5\n",
      "6\n",
      "7\n",
      "8\n",
      "9\n",
      "10\n",
      "11\n"
     ]
    }
   ],
   "source": [
    "# Another for loop example\n",
    "for i in range(2, 12):\n",
    "    print(i)"
   ]
  },
  {
   "cell_type": "code",
   "execution_count": 13,
   "id": "05068274",
   "metadata": {},
   "outputs": [
    {
     "data": {
      "text/plain": [
       "range(2, 12)"
      ]
     },
     "execution_count": 13,
     "metadata": {},
     "output_type": "execute_result"
    }
   ],
   "source": [
    "range(2, 12)"
   ]
  },
  {
   "cell_type": "code",
   "execution_count": 11,
   "id": "df23f7a7",
   "metadata": {},
   "outputs": [
    {
     "name": "stdout",
     "output_type": "stream",
     "text": [
      "2\n",
      "5\n",
      "8\n",
      "11\n"
     ]
    }
   ],
   "source": [
    "# Striding in for loop\n",
    "for i in range(2, 12, 3):\n",
    "    print(i)"
   ]
  },
  {
   "cell_type": "code",
   "execution_count": 20,
   "id": "1960ba38",
   "metadata": {},
   "outputs": [
    {
     "name": "stdout",
     "output_type": "stream",
     "text": [
      "Before language 0 is Java\n",
      "After language 0 is Python\n",
      "Before language 1 is JavaScript\n",
      "After language 1 is Python\n",
      "Before language 2 is C\n",
      "After language 2 is Python\n",
      "Before language 3 is C++\n",
      "After language 3 is Python\n",
      "Before language 4 is PHP\n",
      "After language 4 is Python\n"
     ]
    }
   ],
   "source": [
    "# Changing the elements in the list\n",
    "languages = ['Java', 'JavaScript', 'C', 'C++', 'PHP']\n",
    "\n",
    "for i in range(len(languages)):\n",
    "    print('Before language', i, 'is', languages[i])\n",
    "    languages[i] = 'Python'\n",
    "    print('After language', i, 'is', languages[i])"
   ]
  },
  {
   "cell_type": "code",
   "execution_count": 21,
   "id": "1de2733e",
   "metadata": {},
   "outputs": [
    {
     "name": "stdout",
     "output_type": "stream",
     "text": [
      "0 Python\n",
      "1 Java\n",
      "2 JavaScript\n",
      "3 C\n",
      "4 C++\n",
      "5 PHP\n"
     ]
    }
   ],
   "source": [
    "# Enumeration of the elements in the list\n",
    "languages = ['Python', 'Java', 'JavaScript', 'C', 'C++', 'PHP']\n",
    "\n",
    "for index, language in enumerate(languages):\n",
    "    print(index, language)"
   ]
  },
  {
   "cell_type": "code",
   "execution_count": 22,
   "id": "8c6d858a",
   "metadata": {},
   "outputs": [
    {
     "data": {
      "text/plain": [
       "range(-3, 7)"
      ]
     },
     "execution_count": 22,
     "metadata": {},
     "output_type": "execute_result"
    }
   ],
   "source": [
    "range(-3, 7)"
   ]
  },
  {
   "cell_type": "code",
   "execution_count": 44,
   "id": "f4307dd6",
   "metadata": {},
   "outputs": [
    {
     "data": {
      "text/plain": [
       "range(2, 4)"
      ]
     },
     "execution_count": 44,
     "metadata": {},
     "output_type": "execute_result"
    }
   ],
   "source": [
    "range(2,4)"
   ]
  },
  {
   "cell_type": "code",
   "execution_count": 43,
   "id": "45c71c8f",
   "metadata": {},
   "outputs": [
    {
     "name": "stdout",
     "output_type": "stream",
     "text": [
      "-3\n",
      "-2\n",
      "-1\n",
      "0\n",
      "1\n",
      "2\n",
      "3\n",
      "4\n",
      "5\n",
      "6\n"
     ]
    }
   ],
   "source": [
    "# Take the numbers between -3 and 6 using for loop\n",
    "# Use range() function\n",
    "\n",
    "for i in range(-3, 7):\n",
    "    print(i)"
   ]
  },
  {
   "cell_type": "code",
   "execution_count": 25,
   "id": "22b2eb82",
   "metadata": {},
   "outputs": [
    {
     "name": "stdout",
     "output_type": "stream",
     "text": [
      "0 Python\n",
      "1 Java\n",
      "2 JavaScript\n",
      "3 C\n",
      "4 C++\n",
      "5 PHP\n"
     ]
    }
   ],
   "source": [
    "# Take a list and print the elements using for loop\n",
    "languages = ['Python', 'Java', 'JavaScript', 'C', 'C++', 'PHP']\n",
    "\n",
    "for i in range(len(languages)):\n",
    "    print(i, languages[])"
   ]
  },
  {
   "cell_type": "code",
   "execution_count": 26,
   "id": "4e8eefc0",
   "metadata": {},
   "outputs": [
    {
     "name": "stdout",
     "output_type": "stream",
     "text": [
      "Enter a number:99\n",
      "Enter a number:89\n",
      "The entered numbers are 99 and 89.\n",
      "99 x 0 = 0 , 89 x 0 = 0\n",
      "99 x 1 = 99 , 89 x 1 = 89\n",
      "99 x 2 = 198 , 89 x 2 = 178\n",
      "99 x 3 = 297 , 89 x 3 = 267\n",
      "99 x 4 = 396 , 89 x 4 = 356\n",
      "99 x 5 = 495 , 89 x 5 = 445\n",
      "99 x 6 = 594 , 89 x 6 = 534\n",
      "99 x 7 = 693 , 89 x 7 = 623\n",
      "99 x 8 = 792 , 89 x 8 = 712\n",
      "99 x 9 = 891 , 89 x 9 = 801\n",
      "99 x 10 = 990 , 89 x 10 = 890\n"
     ]
    }
   ],
   "source": [
    "number1 = int(input('Enter a number:'))\n",
    "number2 = int(input('Enter a number:'))\n",
    "print(f'The entered numbers are {number1} and {number2}.')\n",
    "for i in range(0, 11):\n",
    "    print(('%d x %d = %d' %(number1, i, number1*i)), ',', ('%d x %d = %d' %(number2, i, number2*i )))"
   ]
  },
  {
   "cell_type": "markdown",
   "id": "015c9da1",
   "metadata": {},
   "source": [
    "#### Addition and average calculation in for loop"
   ]
  },
  {
   "cell_type": "code",
   "execution_count": null,
   "id": "3f5eaf49",
   "metadata": {},
   "outputs": [],
   "source": [
    "# Take a list\n",
    "nlis = [0.577, 2.718, 3.14, 1.618, 1729, 6, 37]\n",
    "\n",
    "# Write a for loop for addition\n",
    "count = 0\n",
    "for i in nlis:\n",
    "    count+=i\n",
    "print('The total value of the numbers in the list is', count)\n",
    "\n",
    "# Calculate the average using len() function\n",
    "print('The avearge value of the numbers in the list is', count/len(nlis))"
   ]
  },
  {
   "cell_type": "markdown",
   "id": "8da97017",
   "metadata": {},
   "source": [
    "### **for-else** statement"
   ]
  },
  {
   "cell_type": "code",
   "execution_count": 32,
   "id": "62e4da21",
   "metadata": {},
   "outputs": [
    {
     "name": "stdout",
     "output_type": "stream",
     "text": [
      "1, 2, 3, 4, 5, These are numbers from 1 to 5.\n"
     ]
    }
   ],
   "source": [
    "for i in range(1,6):\n",
    "    print(i, end=\", \")\n",
    "else:\n",
    "    print('These are numbers from 1 to 5.')"
   ]
  },
  {
   "cell_type": "markdown",
   "id": "ada46267",
   "metadata": {},
   "source": [
    "### **nested for** loop"
   ]
  },
  {
   "cell_type": "code",
   "execution_count": null,
   "id": "dc51d0e6",
   "metadata": {},
   "outputs": [],
   "source": [
    "num = int(input('Enter a number:'))\n",
    "\n",
    "print(f'The entered the number is {num}.')\n",
    "i, j = 0, 0\n",
    "for i in range(0, num):\n",
    "    print()\n",
    "    for j in range(0, i+1):\n",
    "        print('+', end='')"
   ]
  },
  {
   "cell_type": "markdown",
   "id": "e1eee52a",
   "metadata": {},
   "source": [
    "### **continue** in **for** loop"
   ]
  },
  {
   "cell_type": "code",
   "execution_count": null,
   "id": "80f0f502",
   "metadata": {},
   "outputs": [],
   "source": [
    "# Take a list\n",
    "nlis = [1,2,4,5,6,7,8,9,10,11,12,13,14]\n",
    "for i in nlis:\n",
    "    if i == 5:\n",
    "        continue\n",
    "    print(i)\n",
    "    \n",
    "\"\"\"\n",
    "You see that the output includes the numbers without 5. \n",
    "The continue function jumps when it meets with the reference.\n",
    "\"\"\""
   ]
  },
  {
   "cell_type": "markdown",
   "id": "eec2e89b",
   "metadata": {},
   "source": [
    "### **break** in **for** loop"
   ]
  },
  {
   "cell_type": "code",
   "execution_count": null,
   "id": "3e7fbd9f",
   "metadata": {},
   "outputs": [],
   "source": [
    "# Take a list\n",
    "nlis = [1,2,4,5,6,7,8,9,10,11,12,13,14]\n",
    "for i in nlis:\n",
    "    if i == 5:\n",
    "        break\n",
    "    print(i)\n",
    "    \n",
    "\"\"\"\n",
    "You see that the output includes the numbers before 5. \n",
    "The break function terminate the loop when it meets with the reference.\n",
    "\"\"\""
   ]
  },
  {
   "cell_type": "markdown",
   "id": "c5885d67",
   "metadata": {},
   "source": [
    "### **while** loop\n",
    "The **while** loop exists as a tool for repeated execution based on a condition. The code block will keep being executed until the given logical condition returns a *False* boolean value."
   ]
  },
  {
   "cell_type": "markdown",
   "id": "051e746b",
   "metadata": {},
   "source": [
    "<img src=\"https://www.learnbyexample.org/wp-content/uploads/python/Python-while-Loop-Syntax.png\" width=\"500\" alt=\"while_loop\"  />\n"
   ]
  },
  {
   "cell_type": "code",
   "execution_count": 33,
   "id": "6c96204d",
   "metadata": {},
   "outputs": [
    {
     "name": "stdout",
     "output_type": "stream",
     "text": [
      "22\n",
      "23\n",
      "24\n",
      "25\n",
      "26\n"
     ]
    }
   ],
   "source": [
    "# Take an example\n",
    "i = 22\n",
    "\n",
    "while i<27:\n",
    "    print(i)\n",
    "    i+=1 ###  i=i+1"
   ]
  },
  {
   "cell_type": "code",
   "execution_count": 37,
   "id": "13625309",
   "metadata": {},
   "outputs": [
    {
     "name": "stdout",
     "output_type": "stream",
     "text": [
      "22\n",
      "21\n",
      "20\n",
      "19\n",
      "18\n",
      "17\n",
      "Done!\n"
     ]
    }
   ],
   "source": [
    "#Take an example\n",
    "i = 22\n",
    "while i>=17:\n",
    "    print(i)\n",
    "    i-=1\n",
    "    \n",
    "print(\"Done!\")"
   ]
  },
  {
   "cell_type": "code",
   "execution_count": 42,
   "id": "7dd199a4",
   "metadata": {},
   "outputs": [
    {
     "name": "stdout",
     "output_type": "stream",
     "text": [
      "2005\n",
      "2006\n",
      "2007\n",
      "2008\n",
      "2009\n",
      "It gives us only 5 repetititons to get out of loop\n"
     ]
    }
   ],
   "source": [
    "# Take an example\n",
    "years = [2005, 2006, 2007, 2008, 2009, 2010]\n",
    "\n",
    "index = 0\n",
    "\n",
    "year = years[0]\n",
    "year\n",
    "\n",
    "while year !=2010:\n",
    "    print(year)\n",
    "    index+=1\n",
    "    year = years[index]\n",
    "print('It gives us only', index, 'repetititons to get out of loop')\n"
   ]
  },
  {
   "cell_type": "code",
   "execution_count": null,
   "id": "26565666",
   "metadata": {},
   "outputs": [],
   "source": [
    "# Print the movie ratings gretater than 6.\n",
    "movie_rating = [8.0, 7.5, 5.4, 9.1, 6.3, 6.5, 2.1, 4.8, 3.3]\n",
    "\n",
    "index = 0\n",
    "rating = movie_rating[0]\n",
    "\n",
    "while rating>=6:\n",
    "    print(rating)\n",
    "    index += 1\n",
    "    rating = movie_rating[index]\n",
    "print('There is only', index, 'movie rating, because the loop stops when it meets with the number lower than 6.')"
   ]
  },
  {
   "cell_type": "code",
   "execution_count": null,
   "id": "2e673a4d",
   "metadata": {},
   "outputs": [],
   "source": [
    "# Print the movie ratings gretater than 6.\n",
    "movie_rating = [8.0, 7.5, 5.4, 9.1, 6.3, 6.5, 2.1, 4.8, 3.3]\n",
    "\n",
    "index = 0\n",
    "for i in range(len(movie_rating)):\n",
    "    if movie_rating[i] >= 6:\n",
    "        index += 1\n",
    "        print(index, movie_rating[i])\n",
    "print('There is only', index, 'films gretater than movie rating 6')"
   ]
  },
  {
   "cell_type": "code",
   "execution_count": null,
   "id": "ca59d81a",
   "metadata": {},
   "outputs": [],
   "source": [
    "# Adding the element in a list to a new list \n",
    "fruits = ['banana', 'apple', 'banana', 'orange', 'kiwi', 'banana', 'Cherry', 'Grapes']\n",
    "\n",
    "new_fruits = []\n",
    "\n",
    "index = 0\n",
    "while fruits[index] == 'banana':\n",
    "    new_fruits.append(fruits[index])\n",
    "    index += 1\n",
    "print(new_fruits)"
   ]
  },
  {
   "cell_type": "code",
   "execution_count": null,
   "id": "570e3e18",
   "metadata": {},
   "outputs": [],
   "source": [
    "number1 = int(input('Enter a number:'))\n",
    "number2 = int(input('Enter a number:'))\n",
    "print(f'The entered numbers are {number1} and {number2}.')\n",
    "\n",
    "i = 0\n",
    "while i<=10:\n",
    "    print(('%d x %d = %d' %(number1, i, number1*i)), ',', ('%d x %d = %d' %(number2, i, number2*i )))\n",
    "    i+=1\n"
   ]
  },
  {
   "cell_type": "markdown",
   "id": "5b2a4ca7",
   "metadata": {},
   "source": [
    "### **while-else** statement"
   ]
  },
  {
   "cell_type": "code",
   "execution_count": null,
   "id": "6dfa92d7",
   "metadata": {},
   "outputs": [],
   "source": [
    "index = 0\n",
    "while index <=5:\n",
    "    print(index, end=' ')\n",
    "    index += 1\n",
    "else:\n",
    "    print('It gives us the numbers between 0 and 5.')"
   ]
  },
  {
   "cell_type": "markdown",
   "id": "a74dd875",
   "metadata": {},
   "source": [
    "### **continue** in **while** loop"
   ]
  },
  {
   "cell_type": "code",
   "execution_count": null,
   "id": "0f2decf3",
   "metadata": {},
   "outputs": [],
   "source": [
    "i = 0\n",
    "\n",
    "while i<=5:\n",
    "    print(i)\n",
    "    i+=1\n",
    "    if i == 3:\n",
    "        continue"
   ]
  },
  {
   "cell_type": "markdown",
   "id": "5f440d83",
   "metadata": {},
   "source": [
    "### **break** in **while** loop"
   ]
  },
  {
   "cell_type": "code",
   "execution_count": null,
   "id": "1a9b223b",
   "metadata": {},
   "outputs": [],
   "source": [
    "i = 0\n",
    "\n",
    "while i<=5:\n",
    "    print(i)\n",
    "    i+=1\n",
    "    if i == 3:\n",
    "        break"
   ]
  }
 ],
 "metadata": {
  "interpreter": {
   "hash": "b7377f19eab4b8c2e19b4d5b732c435591579d0f123dd21b146d33dfd161e508"
  },
  "kernelspec": {
   "display_name": "Python 3",
   "language": "python",
   "name": "python3"
  },
  "language_info": {
   "codemirror_mode": {
    "name": "ipython",
    "version": 3
   },
   "file_extension": ".py",
   "mimetype": "text/x-python",
   "name": "python",
   "nbconvert_exporter": "python",
   "pygments_lexer": "ipython3",
   "version": "3.9.13"
  },
  "toc": {
   "base_numbering": 1,
   "nav_menu": {},
   "number_sections": true,
   "sideBar": true,
   "skip_h1_title": false,
   "title_cell": "Table of Contents",
   "title_sidebar": "Contents",
   "toc_cell": false,
   "toc_position": {},
   "toc_section_display": true,
   "toc_window_display": false
  }
 },
 "nbformat": 4,
 "nbformat_minor": 5
}
