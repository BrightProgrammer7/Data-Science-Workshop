{
 "cells": [
  {
   "cell_type": "markdown",
   "id": "8a1e7ca9",
   "metadata": {},
   "source": [
    "<img src= 'https://innovatics.ai/innovatics.jpeg' width=300/>"
   ]
  },
  {
   "cell_type": "markdown",
   "id": "c403e455",
   "metadata": {},
   "source": [
    "## 3. Lists\n",
    "Lists are constructed using square brackets [ ] wherein you can include a list of items separated by commas.You can think of the list as a container that holds a number of items. Each element or value that is inside a list is called an item. All the items in a list are assigned to a single variable. Lists avoid having a separate variable to store each item which is less efficient and more error prone when you have to perform some operations on these items. Lists can be simple or nested lists with varying types of values. Lists are one of the most flexible data storage formats in Python because they can have values added, removed, and changed.\n",
    "You can store any item in a list like string, number, object, another variable and even another list. You can have a mix of different item types and these item types need not have to be homogeneous. For example, you can have a list which is a mix of type numbers, strings and another list itself.\n",
    "\n",
    "- Lists are ordered.\n",
    "- Lists can contain any arbitrary objects.\n",
    "- List elements can be accessed by index.\n",
    "- Lists can be nested to arbitrary depth.\n",
    "- Lists are mutable.\n",
    "- Lists are dynamic."
   ]
  },
  {
   "cell_type": "markdown",
   "id": "0e8e74ab",
   "metadata": {},
   "source": [
    "<img src= 'https://miro.medium.com/max/1256/1*fno2bJSwbqQAX7UE3hz7KA.jpeg' width=650/ alt=\"lists\"  />"
   ]
  },
  {
   "cell_type": "code",
   "execution_count": 37,
   "id": "5dcac360",
   "metadata": {},
   "outputs": [],
   "source": [
    "name = ['Mo Medwani', 'Data Scientist', 'Atlanta']\n",
    "salary = ['USA']\n",
    "address = ['305 Lockwood', 'Atlanta', 'USA']"
   ]
  },
  {
   "cell_type": "code",
   "execution_count": 38,
   "id": "a9df5678",
   "metadata": {},
   "outputs": [],
   "source": [
    "name.append('salary')"
   ]
  },
  {
   "cell_type": "code",
   "execution_count": 39,
   "id": "080dc56c",
   "metadata": {},
   "outputs": [],
   "source": [
    "name.extend(salary)"
   ]
  },
  {
   "cell_type": "code",
   "execution_count": 45,
   "id": "e5ef18ed",
   "metadata": {},
   "outputs": [
    {
     "data": {
      "text/plain": [
       "'USA'"
      ]
     },
     "execution_count": 45,
     "metadata": {},
     "output_type": "execute_result"
    }
   ],
   "source": [
    "name.extend(address)\n",
    "name.pop(5)"
   ]
  },
  {
   "cell_type": "code",
   "execution_count": 44,
   "id": "fe96049d",
   "metadata": {},
   "outputs": [
    {
     "data": {
      "text/plain": [
       "['305 Lockwood',\n",
       " 'Atlanta',\n",
       " 'Atlanta',\n",
       " 'Data Scientist',\n",
       " 'Mo Medwani',\n",
       " 'USA',\n",
       " 'salary',\n",
       " '305 Lockwood',\n",
       " 'Atlanta',\n",
       " 'USA']"
      ]
     },
     "execution_count": 44,
     "metadata": {},
     "output_type": "execute_result"
    }
   ],
   "source": [
    "name"
   ]
  },
  {
   "cell_type": "code",
   "execution_count": 42,
   "id": "e7b61fce",
   "metadata": {},
   "outputs": [
    {
     "data": {
      "text/plain": [
       "['305 Lockwood',\n",
       " 'Atlanta',\n",
       " 'Atlanta',\n",
       " 'Data Scientist',\n",
       " 'Mo Medwani',\n",
       " 'USA',\n",
       " 'USA',\n",
       " 'salary']"
      ]
     },
     "execution_count": 42,
     "metadata": {},
     "output_type": "execute_result"
    }
   ],
   "source": [
    "name.sort()\n",
    "name"
   ]
  },
  {
   "cell_type": "markdown",
   "id": "3380f77f",
   "metadata": {},
   "source": [
    "### Indexing"
   ]
  },
  {
   "cell_type": "code",
   "execution_count": 1,
   "id": "938618c9",
   "metadata": {},
   "outputs": [
    {
     "data": {
      "text/plain": [
       "['python', 25, 2022]"
      ]
     },
     "execution_count": 1,
     "metadata": {},
     "output_type": "execute_result"
    }
   ],
   "source": [
    "# creatinng a list\n",
    "nlis = ['python', 25, 2022]\n",
    "nlis"
   ]
  },
  {
   "cell_type": "code",
   "execution_count": 2,
   "id": "337a6f97",
   "metadata": {},
   "outputs": [
    {
     "data": {
      "text/plain": [
       "3"
      ]
     },
     "execution_count": 2,
     "metadata": {},
     "output_type": "execute_result"
    }
   ],
   "source": [
    "len(nlis)"
   ]
  },
  {
   "cell_type": "code",
   "execution_count": null,
   "id": "0ec48d6a",
   "metadata": {},
   "outputs": [],
   "source": [
    "print('Positive and negative indexing of the first element: \\n - Positive index:', nlis[0], '\\n - Negative index:', nlis[-3])\n",
    "print()\n",
    "print('Positive and negative indexing of the second element: \\n - Positive index:', nlis[1], '\\n - Negative index:', nlis[-2])\n",
    "print()\n",
    "print('Positive and negative indexing of the third element: \\n - Positive index:', nlis[2], '\\n - Negative index:', nlis[-1])"
   ]
  },
  {
   "cell_type": "markdown",
   "id": "36a59d5c",
   "metadata": {},
   "source": [
    "### What can content a list?\n",
    "\n",
    "- Strings\n",
    "- Floats\n",
    "- Integer\n",
    "- Boolean\n",
    "- Nested List\n",
    "- Nested Tuple\n",
    "- Other data structures"
   ]
  },
  {
   "cell_type": "code",
   "execution_count": 10,
   "id": "f1c9fc94",
   "metadata": {},
   "outputs": [
    {
     "name": "stdout",
     "output_type": "stream",
     "text": [
      "['python', 3.14, 2022, [1, 1, 2, 3, 5, 8, 13, 21, 34, [1, 2, 3, 4]], ('hello', 'python', 3, 14, 2022)]\n"
     ]
    }
   ],
   "source": [
    "nlis = ['python', 3.14, 2022, [1, 1, 2, 3, 5, 8, 13, 21, 34, [1,2,3,4]], ('hello', 'python', 3,14, 2022)]\n",
    "\n",
    "print(nlis)"
   ]
  },
  {
   "cell_type": "code",
   "execution_count": 16,
   "id": "3070dc14",
   "metadata": {},
   "outputs": [
    {
     "data": {
      "text/plain": [
       "3"
      ]
     },
     "execution_count": 16,
     "metadata": {},
     "output_type": "execute_result"
    }
   ],
   "source": [
    "nlis[3][9][2]"
   ]
  },
  {
   "cell_type": "code",
   "execution_count": 9,
   "id": "c9645fd7",
   "metadata": {},
   "outputs": [
    {
     "data": {
      "text/plain": [
       "'python'"
      ]
     },
     "execution_count": 9,
     "metadata": {},
     "output_type": "execute_result"
    }
   ],
   "source": [
    "nlis[4][1]"
   ]
  },
  {
   "cell_type": "markdown",
   "id": "a44adffe",
   "metadata": {},
   "source": [
    "### List operations"
   ]
  },
  {
   "cell_type": "code",
   "execution_count": 6,
   "id": "547996b2",
   "metadata": {},
   "outputs": [
    {
     "data": {
      "text/plain": [
       "['python',\n",
       " 3.14,\n",
       " 2022,\n",
       " [1, 1, 2, 3, 5, 8, 13, 21, 34],\n",
       " ('hello', 'python', 3, 14, 2022)]"
      ]
     },
     "execution_count": 6,
     "metadata": {},
     "output_type": "execute_result"
    }
   ],
   "source": [
    "# take a list\n",
    "nlis = ['python', 3.14, 2022, [1, 1, 2, 3, 5, 8, 13, 21, 34], ('hello', 'python', 3,14, 2022)]\n",
    "nlis"
   ]
  },
  {
   "cell_type": "code",
   "execution_count": null,
   "id": "8e041c7e",
   "metadata": {},
   "outputs": [],
   "source": [
    "# length of the list\n",
    "len(nlis)"
   ]
  },
  {
   "cell_type": "markdown",
   "id": "71205312",
   "metadata": {},
   "source": [
    "#### Slicing"
   ]
  },
  {
   "cell_type": "code",
   "execution_count": 17,
   "id": "4c95d7ad",
   "metadata": {},
   "outputs": [
    {
     "name": "stdout",
     "output_type": "stream",
     "text": [
      "['python', 3.14]\n",
      "[2022, [1, 1, 2, 3, 5, 8, 13, 21, 34, [1, 2, 3, 4]]]\n",
      "[('hello', 'python', 3, 14, 2022)]\n"
     ]
    }
   ],
   "source": [
    "# slicing of a list\n",
    "print(nlis[0:2])\n",
    "print(nlis[2:4])\n",
    "print(nlis[4:6])"
   ]
  },
  {
   "cell_type": "markdown",
   "id": "3dd7f87c",
   "metadata": {},
   "source": [
    "#### Extending the list\n",
    "\n",
    "- we use the **extend()** function to add a new element to the list.\n",
    "- With this function, we add more than one element to the list."
   ]
  },
  {
   "cell_type": "code",
   "execution_count": null,
   "id": "ca6ea3f0",
   "metadata": {},
   "outputs": [],
   "source": [
    "# take a list\n",
    "nlis = ['python', 3.14, 2022, [1, 1, 2, 3, 5, 8, 13, 21, 34], ('hello', 'python', 3,14, 2022)]\n",
    "nlis.extend(['Mo Medwani', 'Mercer'])\n",
    "nlis"
   ]
  },
  {
   "cell_type": "markdown",
   "id": "19b658b9",
   "metadata": {},
   "source": [
    "#### **append()** method\n",
    "\n",
    "- As different from the **extend()** method, with the **append()** method, we add only one element to the list\n",
    "- You can see the difference by comparing the above and below codes."
   ]
  },
  {
   "cell_type": "code",
   "execution_count": null,
   "id": "83eaf0eb",
   "metadata": {},
   "outputs": [],
   "source": [
    "nlis2 = ['python', 3.14, 2022, [1, 1, 2, 3, 5, 8, 13, 21, 34], ('hello', 'python', 3,14, 2022)]\n",
    "nlis2.append(['hello world!', 1.618])\n",
    "nlis2"
   ]
  },
  {
   "cell_type": "markdown",
   "id": "facc17b8",
   "metadata": {},
   "source": [
    "#### len(), append(), count(), index(), insert(), max(), min(), sum() functions"
   ]
  },
  {
   "cell_type": "code",
   "execution_count": null,
   "id": "2519bd0f",
   "metadata": {},
   "outputs": [],
   "source": [
    "lis = [1,2,3,4,5,6,7]\n",
    "lis\n",
    "print(len(lis))\n",
    "lis.append(4)\n",
    "print(lis)\n",
    "print(lis.count(4))         # How many 4 are on the list 'lis'?\n",
    "print(lis.index(4))  \n",
    "# What is the index of the number 2 in the list 'lis'?\n",
    "lis.insert(0, \"Mercer\")                # Add number 9 to the index 8. \n",
    "print(lis)\n",
    "# print(max(lis))             # What is the maximum number in the list?\n",
    "# print(min(lis))             # What is the minimum number in the list?\n",
    "# print(sum(lis))             # What is the sum of the numbers in the list?     "
   ]
  },
  {
   "cell_type": "markdown",
   "id": "0e1f42d8",
   "metadata": {},
   "source": [
    "#### Changing the element of a list since it is **mutable**"
   ]
  },
  {
   "cell_type": "code",
   "execution_count": null,
   "id": "cd8aeab3",
   "metadata": {},
   "outputs": [],
   "source": [
    "nlis = ['python', 3.14, 2022, [1, 1, 2, 3, 5, 8, 13, 21, 34], ('hello', 'python', 3,14, 2022)]\n",
    "print('Before changing:', nlis)\n",
    "nlis[0] = 'hello python!'\n",
    "print('After changing:', nlis)\n",
    "nlis[1] = 1.618\n",
    "print('After changing:', nlis)\n",
    "nlis[2] = [3.14, 2022]\n",
    "print('After changing:', nlis)"
   ]
  },
  {
   "cell_type": "markdown",
   "id": "705317bc",
   "metadata": {},
   "source": [
    "#### Deleting the element from the list using **del()** function"
   ]
  },
  {
   "cell_type": "code",
   "execution_count": null,
   "id": "b2b196ae",
   "metadata": {},
   "outputs": [],
   "source": [
    "print('Before changing:', nlis)\n",
    "del(nlis[0])\n",
    "print('After changing:', nlis)\n",
    "del(nlis[-1])\n",
    "print('After changing:', nlis)"
   ]
  },
  {
   "cell_type": "code",
   "execution_count": null,
   "id": "17299450",
   "metadata": {},
   "outputs": [],
   "source": [
    "nlis = ['python', 3.14, 2022, [1, 1, 2, 3, 5, 8, 13, 21, 34], ('hello', 'python', 3,14, 2022)]\n",
    "print('Before deleting:', nlis)\n",
    "del nlis\n",
    "print('After deleting:', nlis)"
   ]
  },
  {
   "cell_type": "markdown",
   "id": "a447951a",
   "metadata": {},
   "source": [
    "#### Conversion of a string into a list using **split()** function"
   ]
  },
  {
   "cell_type": "code",
   "execution_count": null,
   "id": "c3738e48",
   "metadata": {},
   "outputs": [],
   "source": [
    "message = 'Python is a programming language.'\n",
    "message\n",
    "message.split()"
   ]
  },
  {
   "cell_type": "markdown",
   "id": "3132aef5",
   "metadata": {},
   "source": [
    "#### Use of **split()** function with a **delimiter**"
   ]
  },
  {
   "cell_type": "code",
   "execution_count": null,
   "id": "4805b741",
   "metadata": {},
   "outputs": [],
   "source": [
    "text = 'p,y,t,h,o,n'\n",
    "text.split(\",\" )"
   ]
  },
  {
   "cell_type": "markdown",
   "id": "5d3a14ad",
   "metadata": {},
   "source": [
    "#### Basic operations"
   ]
  },
  {
   "cell_type": "code",
   "execution_count": null,
   "id": "a40c4efd",
   "metadata": {},
   "outputs": [],
   "source": [
    "nlis_1 = ['a', 'b', 'hello', 'Python']\n",
    "nlis_2 = [1,2,3,4, 5, 6]\n",
    "print(len(nlis_1))\n",
    "print(len(nlis_2))\n",
    "print(nlis_1+nlis_2)\n",
    "print(nlis_1*3)\n",
    "print(nlis_2*3)\n",
    "for i in nlis_1:\n",
    "    print(i)\n",
    "for i in nlis_2:\n",
    "    print(i)\n",
    "print(4 in nlis_1)\n",
    "print(4 in nlis_2)"
   ]
  },
  {
   "cell_type": "markdown",
   "id": "38a6de0a",
   "metadata": {},
   "source": [
    "#### Copy the list"
   ]
  },
  {
   "cell_type": "code",
   "execution_count": null,
   "id": "499e618c",
   "metadata": {},
   "outputs": [],
   "source": [
    "nlis = ['python', 3.14, 2022, [1, 1, 2, 3, 5, 8, 13, 21, 34], ('hello', 'python', 3,14, 2022)]\n",
    "copy_list = nlis\n",
    "\n",
    "print('nlis:', nlis)\n",
    "print('copy_list:', copy_list)"
   ]
  },
  {
   "cell_type": "code",
   "execution_count": null,
   "id": "d8d1c240",
   "metadata": {},
   "outputs": [],
   "source": [
    "copy_lis2 = nlis.copy()"
   ]
  },
  {
   "cell_type": "code",
   "execution_count": null,
   "id": "442b5784",
   "metadata": {},
   "outputs": [],
   "source": [
    "# The element in the copied list also changes when the element in the original list was changed. \n",
    "# See the following example\n",
    "\n",
    "nlis = ['python', 3.14, 2022, [1, 1, 2, 3, 5, 8, 13, 21, 34], ('hello', 'python', 3,14, 2022)]\n",
    "print(nlis)\n",
    "copy_list = nlis\n",
    "print(copy_list)\n",
    "print('copy_list[0]:', copy_list[0])\n",
    "nlis[0] = 'hello python!'\n",
    "print('copy_list[0]:', copy_list[0])"
   ]
  },
  {
   "cell_type": "markdown",
   "id": "ba03960b",
   "metadata": {},
   "source": [
    "#### Clone the list"
   ]
  },
  {
   "cell_type": "code",
   "execution_count": null,
   "id": "2752e027",
   "metadata": {},
   "outputs": [],
   "source": [
    "# The cloned list is a new copy or clone of the original list.\n",
    "nlis = ['python', 3.14, 2022, [1, 1, 2, 3, 5, 8, 13, 21, 34], ('hello', 'python', 3,14, 2022)]\n",
    "clone_lis = nlis[:]\n",
    "clone_lis"
   ]
  },
  {
   "cell_type": "code",
   "execution_count": null,
   "id": "4ecae682",
   "metadata": {},
   "outputs": [],
   "source": [
    "# When an element in the original list is changed, the element in the cloned list does not change. \n",
    "nlis = ['python', 3.14, 2022, [1, 1, 2, 3, 5, 8, 13, 21, 34], ('hello', 'python', 3,14, 2022)]\n",
    "print(nlis)\n",
    "clone_list = nlis[:]\n",
    "print(clone_list)\n",
    "print('clone_list[0]:', clone_list[0])\n",
    "nlis[0] = 'hello, python!'\n",
    "print('nlis[0]:', nlis[0])"
   ]
  },
  {
   "cell_type": "markdown",
   "id": "4676d7be",
   "metadata": {},
   "source": [
    "#### Concatenate the list"
   ]
  },
  {
   "cell_type": "code",
   "execution_count": null,
   "id": "3962af16",
   "metadata": {},
   "outputs": [],
   "source": [
    "a_list = ['a', 'b', ['c', 'd'], 'e']\n",
    "b_list = [1,2,3,4,5,(6,7), True, False]\n",
    "new_list = a_list + b_list\n",
    "print(new_list)"
   ]
  },
  {
   "cell_type": "markdown",
   "id": "b47ebce1",
   "metadata": {},
   "source": [
    "### As different from the **list**, I also find significant the following information. "
   ]
  },
  {
   "cell_type": "markdown",
   "id": "02ce8e52",
   "metadata": {},
   "source": [
    "### **input()** function\n",
    "\n",
    "- **input()** function in Python provides a user of a program supply inputs to the program at runtime."
   ]
  },
  {
   "cell_type": "code",
   "execution_count": null,
   "id": "d8aca996",
   "metadata": {},
   "outputs": [],
   "source": [
    "text = input('Enter a string:')\n",
    "print('The text is', text)\n",
    "print(type(text))"
   ]
  },
  {
   "cell_type": "code",
   "execution_count": null,
   "id": "8f4f3d32",
   "metadata": {},
   "outputs": [],
   "source": [
    "# Although the function wants an integer, the type of the entered number is a string.\n",
    "number = input('Enter an integer: ')\n",
    "print('The number is', number)\n",
    "print(type(number))"
   ]
  },
  {
   "cell_type": "code",
   "execution_count": null,
   "id": "bd038686",
   "metadata": {},
   "outputs": [],
   "source": [
    "number = int(input('Enter an integer:'))\n",
    "print('The number is', number)\n",
    "print(type(number))"
   ]
  },
  {
   "cell_type": "code",
   "execution_count": null,
   "id": "cee65fe5",
   "metadata": {},
   "outputs": [],
   "source": [
    "number = float(input('Enter an integer:'))\n",
    "print('The number is', number)\n",
    "print(type(number))"
   ]
  },
  {
   "cell_type": "markdown",
   "id": "2063199d",
   "metadata": {},
   "source": [
    "#### **eval()** functions\n",
    "\n",
    "- This function serves the aim of converting a string to an integer or a float"
   ]
  },
  {
   "cell_type": "code",
   "execution_count": null,
   "id": "3c5cff5d",
   "metadata": {},
   "outputs": [],
   "source": [
    "expression = '8+7'\n",
    "expression\n",
    "total = eval(expression)\n",
    "print('Sum of the expression is', total)\n",
    "print(type(expression))\n",
    "print(type(total))"
   ]
  },
  {
   "cell_type": "markdown",
   "id": "f540f579",
   "metadata": {},
   "source": [
    "#### **format()** function\n",
    "\n",
    "- This function helps to format the output printed on the secreen with good look and attractive."
   ]
  },
  {
   "cell_type": "code",
   "execution_count": null,
   "id": "17f3d5fd",
   "metadata": {},
   "outputs": [],
   "source": [
    "a = float(input('Enter the pi number:'))\n",
    "b = float(input('Enter the golden ratio:'))\n",
    "total = a + b\n",
    "print('Sum of {} and {} is {}.'.format(a, b, total))"
   ]
  },
  {
   "cell_type": "code",
   "execution_count": null,
   "id": "bb5af4e1",
   "metadata": {},
   "outputs": [],
   "source": [
    "a = input('Enter your favorite fruit:')\n",
    "b = input('Enter your favorite food:')\n",
    "print('I like {} and {}.'.format(a, b))\n",
    "print('I like {0} and {1}.'.format(a, b))\n",
    "print('I like {1} and {0}.'.format(a, b))"
   ]
  },
  {
   "cell_type": "markdown",
   "id": "b4c77c62",
   "metadata": {},
   "source": [
    "#### Comparison operators\n",
    "\n",
    "- The operators such as **<, >, <=, >=, ==, and !=** compare the certain two operands and return *True* or *False*."
   ]
  },
  {
   "cell_type": "code",
   "execution_count": null,
   "id": "cf1104f3",
   "metadata": {},
   "outputs": [],
   "source": [
    "a = 3.14\n",
    "b = 1.618\n",
    "print('a>b is:', a>b)\n",
    "print('a<b is:', a<b)\n",
    "print('a<=b is:', a<=b)\n",
    "print('a>=b is:', a>=b)\n",
    "print('a==b is:', a==b)\n",
    "print('a!=b is:', a!=b)"
   ]
  },
  {
   "cell_type": "markdown",
   "id": "d5978626",
   "metadata": {},
   "source": [
    "#### Logical operators\n",
    "\n",
    "- The operators including **and, or, not** are utilized to bring two conditions together and assess them. The output returns *True* or *False*"
   ]
  },
  {
   "cell_type": "code",
   "execution_count": null,
   "id": "111e3d94",
   "metadata": {},
   "outputs": [],
   "source": [
    "a = 3.14\n",
    "b = 1.618\n",
    "c = 12\n",
    "d = 3.14\n",
    "print(a>b and c>a)\n",
    "print(b>c and d>a)\n",
    "print(b<c or d>a)\n",
    "print( not a==b)\n",
    "print(not a==d)"
   ]
  },
  {
   "cell_type": "markdown",
   "id": "eb2ec73f",
   "metadata": {},
   "source": [
    "#### Assignment operators\n",
    "\n",
    "- The operators including =, +=, -=, *=, /=, %=, //=, **=, &=, |=, ^=, >>=, and <<= are employed to evaluate a value to a variable."
   ]
  },
  {
   "cell_type": "code",
   "execution_count": null,
   "id": "5979153a",
   "metadata": {},
   "outputs": [],
   "source": [
    "x = 3.14\n",
    "x+=5\n",
    "print(x)"
   ]
  },
  {
   "cell_type": "code",
   "execution_count": null,
   "id": "f215bc37",
   "metadata": {},
   "outputs": [],
   "source": [
    "x = 3.14\n",
    "x-=5\n",
    "print(x)"
   ]
  },
  {
   "cell_type": "code",
   "execution_count": null,
   "id": "5845ab08",
   "metadata": {},
   "outputs": [],
   "source": [
    "x = 3.14\n",
    "x*=5\n",
    "print(x)"
   ]
  },
  {
   "cell_type": "code",
   "execution_count": null,
   "id": "6ea3e6ce",
   "metadata": {},
   "outputs": [],
   "source": [
    "x = 3.14\n",
    "x/=5\n",
    "print(x)"
   ]
  },
  {
   "cell_type": "code",
   "execution_count": null,
   "id": "9ee726df",
   "metadata": {},
   "outputs": [],
   "source": [
    "x = 3.14\n",
    "x%=5\n",
    "print(x)"
   ]
  },
  {
   "cell_type": "code",
   "execution_count": null,
   "id": "c30ab48b",
   "metadata": {},
   "outputs": [],
   "source": [
    "x = 3.14\n",
    "x//=5\n",
    "print(x)"
   ]
  },
  {
   "cell_type": "code",
   "execution_count": null,
   "id": "5d8887af",
   "metadata": {},
   "outputs": [],
   "source": [
    "x = 3.14\n",
    "x**=5\n",
    "print(x)"
   ]
  },
  {
   "cell_type": "markdown",
   "id": "a77744ee",
   "metadata": {},
   "source": [
    "#### Identity operators\n",
    "\n",
    "- The operators **is** or **is not** are employed to control if the operands or objects to the left and right of these operators are referring to a value stored in the same momory location and return *True* or *False*."
   ]
  },
  {
   "cell_type": "code",
   "execution_count": null,
   "id": "64326b4f",
   "metadata": {},
   "outputs": [],
   "source": [
    "a = 3.14\n",
    "b = 1.618\n",
    "print(a is b)\n",
    "print(a is not b)\n",
    "msg1= 'Hello, Python!'\n",
    "msg2 = 'Hello, World!'\n",
    "print(msg1 is msg2)\n",
    "print(msg1 is not msg2)\n",
    "lis1 = [3.14, 1.618]\n",
    "lis2 = [3.14, 1.618]\n",
    "print(lis1 is lis2)             # You should see a list copy behavior\n",
    "print(lis1 is not lis2)"
   ]
  },
  {
   "cell_type": "markdown",
   "id": "cef91a7e",
   "metadata": {},
   "source": [
    "#### Membership operators\n",
    "\n",
    "- These operators inclusing **in** and **not in** are employed to check if the certain value is available in the sequence of values and return *True* or *False*."
   ]
  },
  {
   "cell_type": "code",
   "execution_count": null,
   "id": "c802f3a4",
   "metadata": {},
   "outputs": [],
   "source": [
    "# take a list\n",
    "nlis = [4, 6, 7, 8, 'hello', (4,5), {'name': 'Python'}, {1,2,3}, [1,2,3]]\n",
    "nlis\n",
    "print(5 in nlis)\n",
    "print(4 not in nlis)\n",
    "print((4,5) in nlis)\n",
    "print(9 not in nlis)"
   ]
  },
  {
   "cell_type": "code",
   "execution_count": null,
   "id": "f7a8876d",
   "metadata": {},
   "outputs": [],
   "source": []
  }
 ],
 "metadata": {
  "interpreter": {
   "hash": "b7377f19eab4b8c2e19b4d5b732c435591579d0f123dd21b146d33dfd161e508"
  },
  "kernelspec": {
   "display_name": "Python 3",
   "language": "python",
   "name": "python3"
  },
  "language_info": {
   "codemirror_mode": {
    "name": "ipython",
    "version": 3
   },
   "file_extension": ".py",
   "mimetype": "text/x-python",
   "name": "python",
   "nbconvert_exporter": "python",
   "pygments_lexer": "ipython3",
   "version": "3.9.13"
  },
  "toc": {
   "base_numbering": 1,
   "nav_menu": {},
   "number_sections": true,
   "sideBar": true,
   "skip_h1_title": false,
   "title_cell": "Table of Contents",
   "title_sidebar": "Contents",
   "toc_cell": false,
   "toc_position": {},
   "toc_section_display": true,
   "toc_window_display": false
  }
 },
 "nbformat": 4,
 "nbformat_minor": 5
}
