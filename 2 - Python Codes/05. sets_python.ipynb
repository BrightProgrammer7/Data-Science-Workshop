{
 "cells": [
  {
   "cell_type": "markdown",
   "metadata": {},
   "source": [
    "<img src= 'https://innovatics.ai/innovatics.jpeg' width=300/>"
   ]
  },
  {
   "cell_type": "markdown",
   "metadata": {},
   "source": [
    "## 5. Sets in Python\n",
    "\n",
    "Python also includes a data type for sets. A set is an unordered collection with no duplicate items. Primary uses of sets include membership testing and eliminating duplicate entries. Sets also support mathematical operations, such as union, intersection, difference, and symmetric difference.\n",
    "Curly braces **{ }** or the **set()** function can be used to create sets with a comma-separated list of items inside curly **brackets { }**. Note: to create an empty set you have to use set() and not **{ }** as the latter creates an empty dictionary.\n",
    "\n",
    "* Set is one of 4 built-in data types in Python used to store collections of data including List, Tuple, and Dictionary\n",
    "* Sets are unordered, but you can remove items and add new items.\n",
    "* Set elements are unique. Duplicate elements are not allowed.\n",
    "* A set itself may be modified, but the elements contained in the set must be of an immutable type.\n",
    "* Sets are used to store multiple items in a single variable.\n",
    "* You can denote a set with a pair of curly brackets **{}**.\n",
    "\n",
    "**<span style='color:RED'>\n",
    "Sets are mutable. Indexing is not possible in sets, since set items are unordered. You cannot access or change an item of the set using indexing or slicing.</span>**"
   ]
  },
  {
   "cell_type": "markdown",
   "metadata": {},
   "source": [
    "<img src=\"https://www.learnbyexample.org/wp-content/uploads/python/Python-Set-Operatioons.png\" width=\"500\" alt=\"sets\"  />"
   ]
  },
  {
   "cell_type": "markdown",
   "metadata": {},
   "source": []
  },
  {
   "cell_type": "code",
   "execution_count": 1,
   "metadata": {},
   "outputs": [
    {
     "name": "stdout",
     "output_type": "stream",
     "text": [
      "<class 'dict'>\n"
     ]
    }
   ],
   "source": [
    "# The empty set of curly braces denotes the empty dictionary, not empty set\n",
    "x = {}\n",
    "print(type(x))"
   ]
  },
  {
   "cell_type": "code",
   "execution_count": 2,
   "metadata": {},
   "outputs": [
    {
     "name": "stdout",
     "output_type": "stream",
     "text": [
      "<class 'set'>\n"
     ]
    }
   ],
   "source": [
    "# To take a set without elements, use set() function without any items\n",
    "y = set()\n",
    "print(type(y))"
   ]
  },
  {
   "cell_type": "code",
   "execution_count": 4,
   "metadata": {},
   "outputs": [
    {
     "data": {
      "text/plain": [
       "set"
      ]
     },
     "execution_count": 4,
     "metadata": {},
     "output_type": "execute_result"
    }
   ],
   "source": [
    "# Take a set\n",
    "set1 = {'Hello Python!', 3.14, 1.618, 'Hello World!', 3.14, 1.618, True, False, 2022}\n",
    "type(set1)"
   ]
  },
  {
   "cell_type": "markdown",
   "metadata": {},
   "source": [
    "### Converting list to set"
   ]
  },
  {
   "cell_type": "code",
   "execution_count": 3,
   "metadata": {},
   "outputs": [
    {
     "name": "stdout",
     "output_type": "stream",
     "text": [
      "['Hello Python!', 3.14, 1.618, 'Hello World!', 3.14, 1.618, True, False, 2022]\n",
      "{False, 1.618, True, 3.14, 2022, 'Hello Python!', 'Hello World!'}\n"
     ]
    }
   ],
   "source": [
    "# A list can convert to a set\n",
    "# Take a list\n",
    "nlis = ['Hello Python!', 3.14, 1.618, 'Hello World!', 3.14, 1.618, True, False, 2022]\n",
    "print(nlis)\n",
    "\n",
    "# # Convert the list to a set\n",
    "set2 = set(nlis)\n",
    "print(set2)"
   ]
  },
  {
   "cell_type": "markdown",
   "metadata": {},
   "source": [
    "### Set operations"
   ]
  },
  {
   "cell_type": "code",
   "execution_count": 10,
   "metadata": {},
   "outputs": [
    {
     "data": {
      "text/plain": [
       "{1.618, 2022, 3.14, False, 'Hello Python!', 'Hello World!', True}"
      ]
     },
     "execution_count": 10,
     "metadata": {},
     "output_type": "execute_result"
    }
   ],
   "source": [
    "# Take a set\n",
    "set3 = set(['Hello Python!', 3.14, 1.618, 'Hello World!', 3.14, 1.618, True, False, 2022])\n",
    "set3"
   ]
  },
  {
   "cell_type": "markdown",
   "metadata": {},
   "source": [
    "#### **add()** function\n",
    "\n",
    "To add an element into a set, we use the function **add()**. If the same element is added to the set, nothing will happen because the set accepts no duplicates. "
   ]
  },
  {
   "cell_type": "code",
   "execution_count": 11,
   "metadata": {},
   "outputs": [
    {
     "data": {
      "text/plain": [
       "{1.618,\n",
       " 2022,\n",
       " 3.14,\n",
       " False,\n",
       " 'Hello Python!',\n",
       " 'Hello World!',\n",
       " 'Hi, Python!',\n",
       " True}"
      ]
     },
     "execution_count": 11,
     "metadata": {},
     "output_type": "execute_result"
    }
   ],
   "source": [
    "# Addition of an element to a set\n",
    "set3 = set(['Hello Python!', 3.14, 1.618, 'Hello World!', 3.14, 1.618, True, False, 2022])\n",
    "set3.add('Hi, Python!')\n",
    "set3"
   ]
  },
  {
   "cell_type": "code",
   "execution_count": 12,
   "metadata": {},
   "outputs": [
    {
     "data": {
      "text/plain": [
       "{1.618,\n",
       " 2022,\n",
       " 3.14,\n",
       " False,\n",
       " 'Hello Python!',\n",
       " 'Hello World!',\n",
       " 'Hi, Python!',\n",
       " True}"
      ]
     },
     "execution_count": 12,
     "metadata": {},
     "output_type": "execute_result"
    }
   ],
   "source": [
    "# Addition of the same element\n",
    "set3.add('Hi, Python!')\n",
    "set3\n",
    "\n",
    "# As you see that there is only one from the added element 'Hi, Python!'"
   ]
  },
  {
   "cell_type": "markdown",
   "metadata": {},
   "source": [
    "#### **update()** function\n",
    "To add multiple elements into the set"
   ]
  },
  {
   "cell_type": "code",
   "execution_count": 23,
   "metadata": {},
   "outputs": [
    {
     "name": "stdout",
     "output_type": "stream",
     "text": [
      "{8, 9, 6, 7}\n"
     ]
    }
   ],
   "source": [
    "x_set = {6,7,8,9}\n",
    "print(x_set)\n",
    "x_set.update({3,4,5})\n",
    "print(x_set)"
   ]
  },
  {
   "cell_type": "markdown",
   "metadata": {},
   "source": [
    "#### **remove()** function\n",
    "\n",
    "To **remove** an element from the set"
   ]
  },
  {
   "cell_type": "code",
   "execution_count": 24,
   "metadata": {},
   "outputs": [
    {
     "data": {
      "text/plain": [
       "{1.618, 2022, 3.14, False, 'Hello World!', 'Hi, Python!', True}"
      ]
     },
     "execution_count": 24,
     "metadata": {},
     "output_type": "execute_result"
    }
   ],
   "source": [
    "set3.remove('Hello Python!')\n",
    "set3\n"
   ]
  },
  {
   "cell_type": "markdown",
   "metadata": {},
   "source": [
    "#### **discard()** function\n",
    "It leaves the set unchanged if the element to be deleted is not available in the set."
   ]
  },
  {
   "cell_type": "code",
   "execution_count": 26,
   "metadata": {},
   "outputs": [
    {
     "data": {
      "text/plain": [
       "{1.618, 2022, False, 'Hello World!', 'Hi, Python!', True}"
      ]
     },
     "execution_count": 26,
     "metadata": {},
     "output_type": "execute_result"
    }
   ],
   "source": [
    "set3.discard(3.14)\n",
    "set3"
   ]
  },
  {
   "cell_type": "code",
   "execution_count": 27,
   "metadata": {},
   "outputs": [
    {
     "data": {
      "text/plain": [
       "True"
      ]
     },
     "execution_count": 27,
     "metadata": {},
     "output_type": "execute_result"
    }
   ],
   "source": [
    "# To verify if the element is in the set\n",
    "1.618 in set3"
   ]
  },
  {
   "cell_type": "markdown",
   "metadata": {},
   "source": [
    "### Logic operations in Sets"
   ]
  },
  {
   "cell_type": "code",
   "execution_count": 28,
   "metadata": {},
   "outputs": [
    {
     "data": {
      "text/plain": [
       "({1.618, 3.14, 'Hello Python!', 'Hello World!'},\n",
       " {False, True, 1.618, 3.14, 2022})"
      ]
     },
     "execution_count": 28,
     "metadata": {},
     "output_type": "execute_result"
    }
   ],
   "source": [
    "# Take two sets\n",
    "set4 = set(['Hello Python!', 3.14, 1.618, 'Hello World!'])\n",
    "set5 = set([3.14, 1.618, True, False, 2022])\n",
    "\n",
    "# Printing two sets\n",
    "set4, set5"
   ]
  },
  {
   "cell_type": "markdown",
   "metadata": {},
   "source": [
    "#### To find the intersect of two sets using **&**"
   ]
  },
  {
   "cell_type": "code",
   "execution_count": 29,
   "metadata": {},
   "outputs": [
    {
     "data": {
      "text/plain": [
       "{1.618, 3.14}"
      ]
     },
     "execution_count": 29,
     "metadata": {},
     "output_type": "execute_result"
    }
   ],
   "source": [
    "intersection = set4 & set5\n",
    "intersection"
   ]
  },
  {
   "cell_type": "markdown",
   "metadata": {},
   "source": [
    "#### To find the intersect of two sets, use **intersection()** function"
   ]
  },
  {
   "cell_type": "code",
   "execution_count": 30,
   "metadata": {},
   "outputs": [
    {
     "data": {
      "text/plain": [
       "{1.618, 3.14}"
      ]
     },
     "execution_count": 30,
     "metadata": {},
     "output_type": "execute_result"
    }
   ],
   "source": [
    "set4.intersection(set5)         # The output is the same as that of above"
   ]
  },
  {
   "cell_type": "markdown",
   "metadata": {},
   "source": [
    "#### **difference()** function\n",
    "To find the difference between two sets"
   ]
  },
  {
   "cell_type": "code",
   "execution_count": 34,
   "metadata": {},
   "outputs": [
    {
     "name": "stdout",
     "output_type": "stream",
     "text": [
      "{'Hello Python!', 'Hello World!'}\n",
      "{False, True, 2022}\n"
     ]
    }
   ],
   "source": [
    "print(set4.difference(set5))\n",
    "\n",
    "print(set5.difference(set4))\n",
    "\n",
    "# # The same process can make using subtraction operator as follows:\n",
    "# print(set4-set5)\n",
    "# print(set5-set4)"
   ]
  },
  {
   "cell_type": "markdown",
   "metadata": {},
   "source": [
    "#### Set comparison"
   ]
  },
  {
   "cell_type": "code",
   "execution_count": null,
   "metadata": {},
   "outputs": [],
   "source": [
    "print(set4>set5)\n",
    "print(set5>set4)\n",
    "print(set4==set5)"
   ]
  },
  {
   "cell_type": "markdown",
   "metadata": {},
   "source": [
    "#### **union()** function\n",
    "it corresponds to all the elements in both sets"
   ]
  },
  {
   "cell_type": "code",
   "execution_count": null,
   "metadata": {},
   "outputs": [],
   "source": [
    "set4.union(set5)"
   ]
  },
  {
   "cell_type": "markdown",
   "metadata": {},
   "source": [
    "#### **issuperset()** and **issubset()** functions\n",
    "To control if a set is a superset or a subset of another set"
   ]
  },
  {
   "cell_type": "code",
   "execution_count": null,
   "metadata": {},
   "outputs": [],
   "source": [
    "set(set4).issuperset(set5)"
   ]
  },
  {
   "cell_type": "code",
   "execution_count": null,
   "metadata": {},
   "outputs": [],
   "source": [
    "set(set4).issubset(set5)"
   ]
  },
  {
   "cell_type": "code",
   "execution_count": null,
   "metadata": {},
   "outputs": [],
   "source": [
    "print(set([3.14, 1.618]).issubset(set5))\n",
    "print(set([3.14, 1.618]).issubset(set4))\n",
    "print(set4.issuperset([3.14, 1.618]))\n",
    "print(set5.issuperset([3.14, 1.618]))"
   ]
  },
  {
   "cell_type": "markdown",
   "metadata": {},
   "source": [
    "#### **min(), max() and sum()** functions"
   ]
  },
  {
   "cell_type": "code",
   "execution_count": null,
   "metadata": {},
   "outputs": [],
   "source": [
    "A = [1,1,2,2,3,3,4,4,5,5]       # Take a list\n",
    "B = {1,1,2,2,3,3,4,4,5,5}       # Take a set\n",
    "\n",
    "print('The minimum number of A is', min(A))\n",
    "print('The minimum number of B is', min(B))\n",
    "print('The maximum number of A is', max(A))\n",
    "print('The maximum number of B is', max(B))\n",
    "print('The sum of A is', sum(A))\n",
    "print('The sum of B is', sum(B))\n",
    "\n",
    "# As you see that the sum of A and B is different. Because the set takes no duplicate. "
   ]
  },
  {
   "cell_type": "markdown",
   "metadata": {},
   "source": [
    "#### No mutable sequence in a set\n",
    "A set can not have mutable elements such as list or dictionary in it. If any, it returns error as follows:"
   ]
  },
  {
   "cell_type": "code",
   "execution_count": null,
   "metadata": {},
   "outputs": [],
   "source": [
    "set6 = {'Python', 1,2,3, [1,2,3]}\n",
    "set6"
   ]
  },
  {
   "cell_type": "markdown",
   "metadata": {},
   "source": [
    "#### **index()** function\n",
    "This function does not work in set since the set is unordered collection"
   ]
  },
  {
   "cell_type": "code",
   "execution_count": null,
   "metadata": {},
   "outputs": [],
   "source": [
    "set7 = {1,2,3,4}\n",
    "set7[1]"
   ]
  },
  {
   "cell_type": "markdown",
   "metadata": {},
   "source": [
    "#### Copy the set"
   ]
  },
  {
   "cell_type": "code",
   "execution_count": null,
   "metadata": {},
   "outputs": [],
   "source": [
    "set8 = {1,3,5,7,9}\n",
    "print(set8)\n",
    "set9 = set8\n",
    "print(set9)\n",
    "set8.add(11)\n",
    "print(set8)\n",
    "print(set9)\n",
    "\n",
    "\"\"\"\n",
    "As you see that although the number 8 is added into the set 'set8', the added number\n",
    "is also added into the set 'set9'\n",
    "\"\"\""
   ]
  },
  {
   "cell_type": "markdown",
   "metadata": {},
   "source": [
    "#### **copy()** function\n",
    "it returns a shallow copy of the original set."
   ]
  },
  {
   "cell_type": "code",
   "execution_count": null,
   "metadata": {},
   "outputs": [],
   "source": [
    "set8 = {1,3,5,7,9}\n",
    "print(set8)\n",
    "set9 = set8.copy()\n",
    "print(set9)\n",
    "set8.add(11)\n",
    "print(set8)\n",
    "print(set9)\n",
    "\n",
    "\"\"\"\n",
    "When this function is used, the original set stays unmodified.\n",
    "A new copy stored in another set of memory locations is created.\n",
    "The change made in one copy won't reflect in another.\n",
    "\"\"\""
   ]
  },
  {
   "cell_type": "markdown",
   "metadata": {},
   "source": [
    "#### **clear()** function\n",
    "it removes all elements in the set and then do the set empty."
   ]
  },
  {
   "cell_type": "code",
   "execution_count": 36,
   "metadata": {},
   "outputs": [
    {
     "name": "stdout",
     "output_type": "stream",
     "text": [
      "{0, 1, 2, 3, 34, 5, 8, 13, 21}\n",
      "set()\n"
     ]
    }
   ],
   "source": [
    "x  = {0, 1,1,2,3,5,8,13, 21,34}\n",
    "print( x)\n",
    "x.clear()\n",
    "print(x)"
   ]
  },
  {
   "cell_type": "markdown",
   "metadata": {},
   "source": [
    "#### **pop()** function\n",
    "It removes and returns an arbitrary set element."
   ]
  },
  {
   "cell_type": "code",
   "execution_count": 8,
   "metadata": {},
   "outputs": [
    {
     "name": "stdout",
     "output_type": "stream",
     "text": [
      "{0, 1, 2, 3, 34, 5, 8, 13, 21}\n",
      "{1, 2, 3, 34, 5, 8, 13, 21}\n"
     ]
    }
   ],
   "source": [
    "x  = {0, 1,1,2,3,5,8,13,21,34}\n",
    "print(x)\n",
    "x.pop()\n",
    "print(x)"
   ]
  },
  {
   "cell_type": "code",
   "execution_count": null,
   "metadata": {},
   "outputs": [],
   "source": []
  }
 ],
 "metadata": {
  "interpreter": {
   "hash": "b7377f19eab4b8c2e19b4d5b732c435591579d0f123dd21b146d33dfd161e508"
  },
  "kernelspec": {
   "display_name": "Python 3",
   "language": "python",
   "name": "python3"
  },
  "language_info": {
   "codemirror_mode": {
    "name": "ipython",
    "version": 3
   },
   "file_extension": ".py",
   "mimetype": "text/x-python",
   "name": "python",
   "nbconvert_exporter": "python",
   "pygments_lexer": "ipython3",
   "version": "3.9.13"
  },
  "toc": {
   "base_numbering": 1,
   "nav_menu": {},
   "number_sections": true,
   "sideBar": true,
   "skip_h1_title": false,
   "title_cell": "Table of Contents",
   "title_sidebar": "Contents",
   "toc_cell": false,
   "toc_position": {},
   "toc_section_display": true,
   "toc_window_display": false
  }
 },
 "nbformat": 4,
 "nbformat_minor": 2
}
