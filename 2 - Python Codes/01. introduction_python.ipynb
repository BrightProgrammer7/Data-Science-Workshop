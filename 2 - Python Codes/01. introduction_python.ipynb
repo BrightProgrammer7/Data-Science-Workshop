{
 "cells": [
  {
   "cell_type": "markdown",
   "metadata": {},
   "source": [
    "<img src= 'https://innovatics.ai/innovatics.jpeg' width=300/>"
   ]
  },
  {
   "cell_type": "markdown",
   "metadata": {},
   "source": [
    "## 1. Introduction to Python"
   ]
  },
  {
   "cell_type": "markdown",
   "metadata": {},
   "source": [
    "#### First code"
   ]
  },
  {
   "cell_type": "code",
   "execution_count": null,
   "metadata": {},
   "outputs": [],
   "source": [
    "# ! pip install handcalcs"
   ]
  },
  {
   "cell_type": "code",
   "execution_count": null,
   "metadata": {},
   "outputs": [],
   "source": [
    "import handcalcs.render"
   ]
  },
  {
   "cell_type": "code",
   "execution_count": null,
   "metadata": {},
   "outputs": [],
   "source": [
    "# First python output with 'Print' functions\n",
    "print('Hello World!')\n",
    "print('Hi, Python!')"
   ]
  },
  {
   "cell_type": "markdown",
   "metadata": {},
   "source": [
    "#### Version control"
   ]
  },
  {
   "cell_type": "code",
   "execution_count": null,
   "metadata": {},
   "outputs": [],
   "source": [
    "# Python version check\n",
    "import sys\n",
    "print(sys.version)      # version control\n",
    "print(sys.winver)       # [Windows only] version number of the Python DLL\n",
    "print(sys.gettrace)     # get the global debug tracing function\n",
    "print(sys.argv)             # keeps the parameters used while running the program we wrote in a list.\n"
   ]
  },
  {
   "cell_type": "markdown",
   "metadata": {},
   "source": [
    "#### help() function"
   ]
  },
  {
   "cell_type": "code",
   "execution_count": null,
   "metadata": {},
   "outputs": [],
   "source": [
    "# The Python help function is used to display the documentation of modules, functions, classes, keywords, etc.\n",
    "help(sys)       # here the module name is 'sys'"
   ]
  },
  {
   "cell_type": "markdown",
   "metadata": {},
   "source": [
    "#### Comment"
   ]
  },
  {
   "cell_type": "code",
   "execution_count": null,
   "metadata": {},
   "outputs": [],
   "source": [
    "# This is a comment... this code is all about doing this and this...."
   ]
  },
  {
   "cell_type": "code",
   "execution_count": null,
   "metadata": {},
   "outputs": [],
   "source": [
    "# This is a comment, and to write a comment, '#' symbol is used.\n",
    "print('Hello World!')       # This line prints a string.\n",
    "\n",
    "# Print 'Hello'\n",
    "print('Hello')"
   ]
  },
  {
   "cell_type": "markdown",
   "metadata": {},
   "source": [
    "#### Errors"
   ]
  },
  {
   "cell_type": "code",
   "execution_count": null,
   "metadata": {},
   "outputs": [],
   "source": [
    "# Print string as error message\n",
    "frint('Hello, World!')"
   ]
  },
  {
   "cell_type": "code",
   "execution_count": null,
   "metadata": {},
   "outputs": [],
   "source": [
    "# Built-in error message\n",
    "print('Hello, World!)"
   ]
  },
  {
   "cell_type": "code",
   "execution_count": null,
   "metadata": {},
   "outputs": [],
   "source": [
    "# Print both string and error to see the running order\n",
    "print('This string is printed')\n",
    "frint('This gives an error message')\n",
    "print('This string will not be printed')"
   ]
  },
  {
   "cell_type": "markdown",
   "metadata": {},
   "source": [
    "#### Basic data types in Python"
   ]
  },
  {
   "cell_type": "markdown",
   "metadata": {},
   "source": [
    "<a align='center'>\n",
    "    <img src= 'https://www.tutorialandexample.com/wp-content/uploads/2020/12/image-5.png' width=650/>\n",
    "</a>"
   ]
  },
  {
   "cell_type": "code",
   "execution_count": null,
   "metadata": {},
   "outputs": [],
   "source": [
    "# String\n",
    "print(\"Hello, World!\")\n",
    "# Integer\n",
    "print(12)\n",
    "# Float\n",
    "print(3.14)\n",
    "# Boolean\n",
    "print(True)\n",
    "print(False)\n",
    "print(bool(1))      # Output = True\n",
    "print(bool(0))      # Output = False\n"
   ]
  },
  {
   "cell_type": "code",
   "execution_count": null,
   "metadata": {},
   "outputs": [],
   "source": [
    "name"
   ]
  },
  {
   "cell_type": "code",
   "execution_count": null,
   "metadata": {},
   "outputs": [],
   "source": [
    "print(name)"
   ]
  },
  {
   "cell_type": "markdown",
   "metadata": {},
   "source": [
    "#### type() function"
   ]
  },
  {
   "cell_type": "code",
   "execution_count": null,
   "metadata": {},
   "outputs": [],
   "source": [
    "# String\n",
    "print(type('Hello, World!'))\n",
    "\n",
    "# Integer\n",
    "print(type(15))\n",
    "print(type(-24))\n",
    "print(type(0))\n",
    "print(type(1))\n",
    "\n",
    "# Float\n",
    "print(type(3.14))\n",
    "print(type(0.5))\n",
    "print(type(1.0))\n",
    "print(type(-5.0))\n",
    "\n",
    "# Boolean\n",
    "print(type(True))\n",
    "print(type(False))"
   ]
  },
  {
   "cell_type": "code",
   "execution_count": null,
   "metadata": {},
   "outputs": [],
   "source": [
    "# to obtain the information about 'interger' and 'float'\n",
    "print(sys.int_info)\n",
    "print()                         # to add a space between two outputs, use 'print()' function\n",
    "print(sys.float_info)"
   ]
  },
  {
   "cell_type": "markdown",
   "metadata": {},
   "source": [
    "#### Converting an abject type to another object type"
   ]
  },
  {
   "cell_type": "code",
   "execution_count": null,
   "metadata": {},
   "outputs": [],
   "source": [
    "# Let's convert the integer number 6 to a string and a float\n",
    "\n",
    "number = 6\n",
    "\n",
    "print(str(number))\n",
    "print(float(number))\n",
    "print(type(number))\n",
    "print(type(str(number)))\n",
    "print(type(float(number)))\n",
    "str(number)"
   ]
  },
  {
   "cell_type": "code",
   "execution_count": null,
   "metadata": {},
   "outputs": [],
   "source": [
    "# Let's conver the float number 3.14 to a string and an integer\n",
    "\n",
    "number = 3.14\n",
    "\n",
    "print(str(number))\n",
    "print(int(number))\n",
    "print(type(number))\n",
    "print(type(str(number)))\n",
    "print(type(int(number)))\n",
    "str(number)"
   ]
  },
  {
   "cell_type": "code",
   "execution_count": null,
   "metadata": {},
   "outputs": [],
   "source": [
    "# Let's convert the booleans to an integer,  a float, and a string\n",
    "\n",
    "bool_1 = True\n",
    "bool_2 = False\n",
    "\n",
    "print(int(bool_1))\n",
    "print(int(bool_2))\n",
    "print(float(bool_1))\n",
    "print(float(bool_2))\n",
    "print(str(bool_1))\n",
    "print(str(bool_2))\n",
    "print(bool(1))\n",
    "print(bool(0))"
   ]
  },
  {
   "cell_type": "code",
   "execution_count": null,
   "metadata": {},
   "outputs": [],
   "source": [
    "# Let's find the data types of 9/3 and 9//4\n",
    "\n",
    "print(9/3)\n",
    "print(9//4)\n",
    "print(type(9/3))\n",
    "print(type(9//4))"
   ]
  },
  {
   "cell_type": "code",
   "execution_count": null,
   "metadata": {},
   "outputs": [],
   "source": [
    "print()\n",
    "help()\n",
    "type()"
   ]
  },
  {
   "cell_type": "markdown",
   "metadata": {},
   "source": [
    "#### Experesion and variables"
   ]
  },
  {
   "cell_type": "code",
   "execution_count": null,
   "metadata": {},
   "outputs": [],
   "source": [
    "# Addition (PEMDAS)\n",
    "\n",
    "x = 56 + 65-89 / 45 * 78.5 + 98.2 + (55.9 /2)\n",
    "print(x)\n",
    "print(type(x))"
   ]
  },
  {
   "cell_type": "code",
   "execution_count": null,
   "metadata": {},
   "outputs": [],
   "source": [
    "x"
   ]
  },
  {
   "cell_type": "code",
   "execution_count": null,
   "metadata": {},
   "outputs": [],
   "source": [
    "# Substraction\n",
    "\n",
    "x2 = 85-52-21-8\n",
    "print(x2)\n",
    "print(type(x2))"
   ]
  },
  {
   "cell_type": "code",
   "execution_count": null,
   "metadata": {},
   "outputs": [],
   "source": [
    "# Multiplication\n",
    "\n",
    "x3 = 8*74\n",
    "print(x3)\n",
    "print(type(x3))"
   ]
  },
  {
   "cell_type": "code",
   "execution_count": null,
   "metadata": {},
   "outputs": [],
   "source": [
    "# Division\n",
    "\n",
    "x4 = 125/24\n",
    "print(x4)\n",
    "print(type(x4))"
   ]
  },
  {
   "cell_type": "code",
   "execution_count": null,
   "metadata": {},
   "outputs": [],
   "source": [
    "# Floor division\n",
    "\n",
    "x5 = 125//24\n",
    "print(x5)\n",
    "print(type(x5))"
   ]
  },
  {
   "cell_type": "code",
   "execution_count": null,
   "metadata": {},
   "outputs": [],
   "source": [
    "# Modulus\n",
    "\n",
    "x = 125%24\n",
    "print(x)\n",
    "print(type(x))"
   ]
  },
  {
   "cell_type": "code",
   "execution_count": null,
   "metadata": {},
   "outputs": [],
   "source": [
    "# Exponentiation\n",
    "\n",
    "x = 2**3\n",
    "print(x)\n",
    "print(type(x))"
   ]
  },
  {
   "cell_type": "code",
   "execution_count": null,
   "metadata": {},
   "outputs": [],
   "source": [
    "# An example: Let's calculate how many minutes there are in 20 hours?\n",
    "\n",
    "one_hour = 60       # 60 minutes\n",
    "hour = 20\n",
    "minutes = one_hour *hour\n",
    "print(minutes)\n",
    "print(type(minutes))\n",
    "\n",
    "# An example: Let's calculate how many hours there are in 348 minutes?\n",
    "\n",
    "minutes = 348\n",
    "one_hour = 60\n",
    "hours = 348/60\n",
    "print(hours)\n",
    "print(type(hours))"
   ]
  },
  {
   "cell_type": "code",
   "execution_count": null,
   "metadata": {
    "scrolled": true
   },
   "outputs": [],
   "source": [
    "# Mathematica expression\n",
    "x = 45+3*89\n",
    "y = (45+3)*89\n",
    "print(x)\n",
    "print(y)\n",
    "print(x+y)\n",
    "print(x-y)\n",
    "print(x*y)\n",
    "print(x/y)\n",
    "print(x**y)\n",
    "print(x//y)\n",
    "print(x%y)"
   ]
  },
  {
   "cell_type": "markdown",
   "metadata": {},
   "source": [
    "#### Variables"
   ]
  },
  {
   "cell_type": "code",
   "execution_count": null,
   "metadata": {},
   "outputs": [],
   "source": [
    "# Store the value 89 into the variabe 'number'\n",
    "\n",
    "number = 90\n",
    "print(number)\n",
    "print(type(number))"
   ]
  },
  {
   "cell_type": "code",
   "execution_count": null,
   "metadata": {},
   "outputs": [],
   "source": [
    "x = 25\n",
    "y = 87\n",
    "z = 5*x - 2*y\n",
    "print(z)\n",
    "\n",
    "t = z/7\n",
    "print(t)\n",
    "\n",
    "z = z/14\n",
    "print(z)"
   ]
  },
  {
   "cell_type": "code",
   "execution_count": null,
   "metadata": {},
   "outputs": [],
   "source": [
    "x, y, z = 8, 4, 2       # the values of x, y, and z can be written in one line. \n",
    "print(x, y, z)\n",
    "print(x)\n",
    "print(y)\n",
    "print(z)\n",
    "print(x/y)\n",
    "print(x/z)\n",
    "print(y/z)\n",
    "print(x+y+z)\n",
    "print(x*y*z)\n",
    "print(x-y-z)\n",
    "print(x/y/z)\n",
    "print(x//y//z)\n",
    "print(x%y%z)\n"
   ]
  },
  {
   "cell_type": "code",
   "execution_count": null,
   "metadata": {},
   "outputs": [],
   "source": []
  },
  {
   "cell_type": "code",
   "execution_count": null,
   "metadata": {},
   "outputs": [],
   "source": []
  },
  {
   "cell_type": "code",
   "execution_count": null,
   "metadata": {},
   "outputs": [],
   "source": []
  }
 ],
 "metadata": {
  "interpreter": {
   "hash": "b7377f19eab4b8c2e19b4d5b732c435591579d0f123dd21b146d33dfd161e508"
  },
  "kernelspec": {
   "display_name": "Python 3",
   "language": "python",
   "name": "python3"
  },
  "language_info": {
   "codemirror_mode": {
    "name": "ipython",
    "version": 3
   },
   "file_extension": ".py",
   "mimetype": "text/x-python",
   "name": "python",
   "nbconvert_exporter": "python",
   "pygments_lexer": "ipython3",
   "version": "3.9.13"
  },
  "toc": {
   "base_numbering": 1,
   "nav_menu": {},
   "number_sections": true,
   "sideBar": true,
   "skip_h1_title": false,
   "title_cell": "Table of Contents",
   "title_sidebar": "Contents",
   "toc_cell": false,
   "toc_position": {},
   "toc_section_display": true,
   "toc_window_display": false
  }
 },
 "nbformat": 4,
 "nbformat_minor": 4
}
