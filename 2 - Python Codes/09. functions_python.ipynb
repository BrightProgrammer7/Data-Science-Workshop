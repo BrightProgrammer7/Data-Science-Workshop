{
 "cells": [
  {
   "cell_type": "markdown",
   "metadata": {},
   "source": [
    "<img src= 'https://innovatics.ai/innovatics.jpeg' width=300/>"
   ]
  },
  {
   "cell_type": "markdown",
   "metadata": {},
   "source": [
    "## 9. Functions in Python\n",
    "\n",
    "* In Python, a **function** is a group of related statements that performs a specific task.\n",
    "* **Functions** help break our program into smaller and modular chunks. * As our program grows larger and larger, **functions** make it more organized and manageable.\n",
    "* Furthermore, it avoids repetition and makes the code reusable.\n",
    "* There are two types of functions:\n",
    "<ul>\n",
    "<li>Pre-defined functions</li>\n",
    "<li>User defined functions</li>\n",
    "</ul>\n",
    "\n",
    "* In Python a **function** is defined using the **def** keyword followed by the function **name** and parentheses **()**.\n",
    "* Keyword **def** that marks the start of the function header.\n",
    "* A **function** name to uniquely identify the **function**. \n",
    "* **Function** naming follows the same rules of writing identifiers in Python.\n",
    "* Parameters (arguments) through which we pass values to a **function**. They are optional.\n",
    "* A **colon (:)** to mark the end of the **function** header.\n",
    "* Optional documentation string (docstring) to describe what the **function** does.\n",
    "* One or more valid python statements that make up the **function** body. \n",
    "* Statements must have the same indentation level (usually 4 spaces).\n",
    "* An optional return statement to return a value from the **function**."
   ]
  },
  {
   "cell_type": "markdown",
   "metadata": {},
   "source": [
    "<img src=\"https://www.learnbyexample.org/wp-content/uploads/python/Python-Function-Syntax.png\" width=\"500\" alt=\"try/except syntax\"  />"
   ]
  },
  {
   "cell_type": "code",
   "execution_count": 21,
   "metadata": {},
   "outputs": [
    {
     "name": "stdout",
     "output_type": "stream",
     "text": [
      "42\n",
      "58\n",
      "400\n",
      "6.25\n",
      "2\n",
      "6\n"
     ]
    }
   ],
   "source": [
    "x = 50\n",
    "y1 = x-8\n",
    "y2 = x+8\n",
    "y3 = x*8\n",
    "y4 = x/8\n",
    "y5 = x%8\n",
    "y6 = x//8\n",
    "    \n",
    "    \n",
    "print(y1)\n",
    "print(y2)\n",
    "print(y3)\n",
    "print(y4)\n",
    "print(y5)\n",
    "print(y6)\n",
    "\n",
    "# X =60\n",
    "# X =70"
   ]
  },
  {
   "cell_type": "code",
   "execution_count": 24,
   "metadata": {},
   "outputs": [
    {
     "name": "stdout",
     "output_type": "stream",
     "text": [
      "If you make the above operations with 50, the results will be 42, 58, 400, 6.25, 2, 6.\n"
     ]
    },
    {
     "data": {
      "text/plain": [
       "(42, 58, 400, 6.25, 2, 6)"
      ]
     },
     "execution_count": 24,
     "metadata": {},
     "output_type": "execute_result"
    }
   ],
   "source": [
    "process(50)"
   ]
  },
  {
   "cell_type": "code",
   "execution_count": 25,
   "metadata": {},
   "outputs": [
    {
     "name": "stdout",
     "output_type": "stream",
     "text": [
      "If you make the above operations with 60, the results will be 52, 68, 480, 7.5, 4, 7.\n"
     ]
    },
    {
     "data": {
      "text/plain": [
       "(52, 68, 480, 7.5, 4, 7)"
      ]
     },
     "execution_count": 25,
     "metadata": {},
     "output_type": "execute_result"
    }
   ],
   "source": [
    "process(60)"
   ]
  },
  {
   "cell_type": "code",
   "execution_count": 22,
   "metadata": {},
   "outputs": [
    {
     "name": "stdout",
     "output_type": "stream",
     "text": [
      "52\n",
      "68\n",
      "480\n",
      "7.5\n",
      "4\n",
      "7\n"
     ]
    }
   ],
   "source": [
    "x = 60\n",
    "y1 = x-8\n",
    "y2 = x+8\n",
    "y3 = x*8\n",
    "y4 = x/8\n",
    "y5 = x%8\n",
    "y6 = x//8\n",
    "    \n",
    "    \n",
    "print(y1)\n",
    "print(y2)\n",
    "print(y3)\n",
    "print(y4)\n",
    "print(y5)\n",
    "print(y6)"
   ]
  },
  {
   "cell_type": "code",
   "execution_count": 23,
   "metadata": {},
   "outputs": [
    {
     "name": "stdout",
     "output_type": "stream",
     "text": [
      "62\n",
      "78\n",
      "560\n",
      "8.75\n",
      "6\n",
      "8\n"
     ]
    }
   ],
   "source": [
    "x = 70\n",
    "y1 = x-8\n",
    "y2 = x+8\n",
    "y3 = x*8\n",
    "y4 = x/8\n",
    "y5 = x%8\n",
    "y6 = x//8\n",
    "    \n",
    "    \n",
    "print(y1)\n",
    "print(y2)\n",
    "print(y3)\n",
    "print(y4)\n",
    "print(y5)\n",
    "print(y6)"
   ]
  },
  {
   "cell_type": "code",
   "execution_count": 4,
   "metadata": {},
   "outputs": [
    {
     "name": "stdout",
     "output_type": "stream",
     "text": [
      "If you make the above operations with 99, the results will be 91, 107, 792, 12.375, 3, 12.\n"
     ]
    },
    {
     "data": {
      "text/plain": [
       "(91, 107, 792, 12.375, 3, 12)"
      ]
     },
     "execution_count": 4,
     "metadata": {},
     "output_type": "execute_result"
    }
   ],
   "source": [
    "# Take a function sample\n",
    "# Mathematical operations in a function\n",
    "\n",
    "def process(x):\n",
    "    y1 = x-8\n",
    "    y2 = x+8\n",
    "    y3 = x*8\n",
    "    y4 = x/8\n",
    "    y5 = x%8\n",
    "    y6 = x//8\n",
    "    print(f'If you make the above operations with {x}, the results will be {y1}, {y2}, {y3}, {y4}, {y5}, {y6}.')\n",
    "    return y1, y2, y3, y4, y5, y6\n",
    "\n"
   ]
  },
  {
   "cell_type": "markdown",
   "metadata": {},
   "source": [
    "### You can request help using **help()** function"
   ]
  },
  {
   "cell_type": "code",
   "execution_count": 5,
   "metadata": {},
   "outputs": [
    {
     "name": "stdout",
     "output_type": "stream",
     "text": [
      "Help on function process in module __main__:\n",
      "\n",
      "process(x)\n",
      "\n"
     ]
    }
   ],
   "source": [
    "help(process)"
   ]
  },
  {
   "cell_type": "code",
   "execution_count": 14,
   "metadata": {},
   "outputs": [
    {
     "data": {
      "text/plain": [
       "['__annotations__',\n",
       " '__call__',\n",
       " '__class__',\n",
       " '__closure__',\n",
       " '__code__',\n",
       " '__defaults__',\n",
       " '__delattr__',\n",
       " '__dict__',\n",
       " '__dir__',\n",
       " '__doc__',\n",
       " '__eq__',\n",
       " '__format__',\n",
       " '__ge__',\n",
       " '__get__',\n",
       " '__getattribute__',\n",
       " '__globals__',\n",
       " '__gt__',\n",
       " '__hash__',\n",
       " '__init__',\n",
       " '__init_subclass__',\n",
       " '__kwdefaults__',\n",
       " '__le__',\n",
       " '__lt__',\n",
       " '__module__',\n",
       " '__name__',\n",
       " '__ne__',\n",
       " '__new__',\n",
       " '__qualname__',\n",
       " '__reduce__',\n",
       " '__reduce_ex__',\n",
       " '__repr__',\n",
       " '__setattr__',\n",
       " '__sizeof__',\n",
       " '__str__',\n",
       " '__subclasshook__']"
      ]
     },
     "execution_count": 14,
     "metadata": {},
     "output_type": "execute_result"
    }
   ],
   "source": [
    "dir(process)"
   ]
  },
  {
   "cell_type": "code",
   "execution_count": 16,
   "metadata": {},
   "outputs": [
    {
     "name": "stdout",
     "output_type": "stream",
     "text": [
      "process\n"
     ]
    }
   ],
   "source": [
    "print(process.__qualname__)"
   ]
  },
  {
   "cell_type": "markdown",
   "metadata": {},
   "source": [
    "### Call the function again with the number 3.14"
   ]
  },
  {
   "cell_type": "code",
   "execution_count": 17,
   "metadata": {},
   "outputs": [
    {
     "name": "stdout",
     "output_type": "stream",
     "text": [
      "If you make the above operations with 3.14, the results will be -4.859999999999999, 11.14, 25.12, 0.3925, 3.14, 0.0.\n"
     ]
    },
    {
     "data": {
      "text/plain": [
       "(-4.859999999999999, 11.14, 25.12, 0.3925, 3.14, 0.0)"
      ]
     },
     "execution_count": 17,
     "metadata": {},
     "output_type": "execute_result"
    }
   ],
   "source": [
    "process(3.14)"
   ]
  },
  {
   "cell_type": "code",
   "execution_count": null,
   "metadata": {},
   "outputs": [],
   "source": [
    "process(55)"
   ]
  },
  {
   "cell_type": "markdown",
   "metadata": {},
   "source": [
    "### Functions with **multiple** parameters"
   ]
  },
  {
   "cell_type": "code",
   "execution_count": 30,
   "metadata": {},
   "outputs": [
    {
     "name": "stdout",
     "output_type": "stream",
     "text": [
      "59.370000000000005\n",
      "59.370000000000005\n"
     ]
    },
    {
     "data": {
      "text/plain": [
       "59.370000000000005"
      ]
     },
     "execution_count": 30,
     "metadata": {},
     "output_type": "execute_result"
    }
   ],
   "source": [
    "# Define a function with multiple elements\n",
    "def mult(x, y):\n",
    "    z = 2*x + 5*y + 45\n",
    "    return z\n",
    "\n",
    "output = mult(3.14, 1.618)      # You can yield the output by assigning to a variable\n",
    "print(output)\n",
    "print(mult(3.14, 1.618))       # You can obtain the result directly\n",
    "mult(3.14,1.618)                # This is also another version"
   ]
  },
  {
   "cell_type": "code",
   "execution_count": 31,
   "metadata": {},
   "outputs": [
    {
     "name": "stdout",
     "output_type": "stream",
     "text": [
      "265\n"
     ]
    }
   ],
   "source": [
    "# Call again the defined function with different arguments\n",
    "print(mult(25, 34))"
   ]
  },
  {
   "cell_type": "markdown",
   "metadata": {},
   "source": [
    "### Variables\n",
    "* The input to a function is called a **formal parameter**.\n",
    "* A **variable** that is declared inside a function is called a  **local variable**. \n",
    "* The parameter only exists within the function (i.e. the point where the function starts and stops).\n",
    "* A **variable** that is declared outside a function definition is a **global variable**, and its value is accessible and modifiable throughout the program. "
   ]
  },
  {
   "cell_type": "code",
   "execution_count": 32,
   "metadata": {},
   "outputs": [
    {
     "name": "stdout",
     "output_type": "stream",
     "text": [
      "If you make the above operations with 1.618, the results will be 9.934520000000001.\n",
      "9.934520000000001\n"
     ]
    }
   ],
   "source": [
    "# Define a function\n",
    "def function(x):\n",
    "        # Take a local variable\n",
    "    y = 3.14\n",
    "    z = 3*x + 1.618*y\n",
    "    print(f'If you make the above operations with {x}, the results will be {z}.')\n",
    "    return z\n",
    "\n",
    "with_golden_ratio = function(1.618)\n",
    "print(with_golden_ratio)"
   ]
  },
  {
   "cell_type": "code",
   "execution_count": 33,
   "metadata": {},
   "outputs": [
    {
     "name": "stdout",
     "output_type": "stream",
     "text": [
      "If you make the above operations with 3.14, the results will be 14.500520000000002.\n",
      "14.500520000000002\n"
     ]
    }
   ],
   "source": [
    "# It starts the gloabal variable\n",
    "a = 3.14\n",
    "\n",
    "# call function and return function\n",
    "y = function(a)\n",
    "print(y)"
   ]
  },
  {
   "cell_type": "code",
   "execution_count": 34,
   "metadata": {},
   "outputs": [
    {
     "name": "stdout",
     "output_type": "stream",
     "text": [
      "If you make the above operations with 2.718, the results will be 13.23452.\n"
     ]
    },
    {
     "data": {
      "text/plain": [
       "13.23452"
      ]
     },
     "execution_count": 34,
     "metadata": {},
     "output_type": "execute_result"
    }
   ],
   "source": [
    "# Enter a number directly as a parameter\n",
    "function(2.718)"
   ]
  },
  {
   "cell_type": "markdown",
   "metadata": {},
   "source": [
    "#### Without **return** statement, the function returns **None**"
   ]
  },
  {
   "cell_type": "code",
   "execution_count": null,
   "metadata": {},
   "outputs": [],
   "source": [
    "# Define a function with and without return statement\n",
    "def msg1():\n",
    "    print('Hello, Python!')\n",
    "\n",
    "def msg2():\n",
    "    print('Hello, World!')\n",
    "    return None\n",
    "\n",
    "msg1()\n",
    "msg2()"
   ]
  },
  {
   "cell_type": "code",
   "execution_count": null,
   "metadata": {},
   "outputs": [],
   "source": [
    "# Printing the function after a call indicates a None is the default return statement.\n",
    "# See the following prontings what functions returns are.\n",
    "\n",
    "print(msg1())\n",
    "print(msg2())"
   ]
  },
  {
   "cell_type": "markdown",
   "metadata": {},
   "source": [
    "#### Concatetantion of two strings"
   ]
  },
  {
   "cell_type": "code",
   "execution_count": null,
   "metadata": {},
   "outputs": [],
   "source": [
    "# Define a function\n",
    "def  strings(x, y):\n",
    "    return x + y\n",
    "\n",
    "# Testing the function 'strings(x, y)'\n",
    "strings('Hello', ' ' 'Python')"
   ]
  },
  {
   "cell_type": "markdown",
   "metadata": {},
   "source": [
    "#### Simplicity of functions"
   ]
  },
  {
   "cell_type": "code",
   "execution_count": null,
   "metadata": {},
   "outputs": [],
   "source": [
    "# The following codes are not used again.\n",
    "x = 2.718\n",
    "y = 0.577\n",
    "equation = x*y + x+y - 37\n",
    "if equation>0:\n",
    "    equation = 6\n",
    "else: equation = 37\n",
    "\n",
    "equation"
   ]
  },
  {
   "cell_type": "code",
   "execution_count": null,
   "metadata": {},
   "outputs": [],
   "source": [
    "# The following codes are not used again.\n",
    "x = 0\n",
    "y = 0\n",
    "equation = x*y + x+y - 37\n",
    "if equation<0:\n",
    "    equation = 0\n",
    "else: equation = 37\n",
    "\n",
    "equation"
   ]
  },
  {
   "cell_type": "code",
   "execution_count": null,
   "metadata": {},
   "outputs": [],
   "source": [
    "# The following codes can be write as a function.\n",
    "def function(x, y):\n",
    "    equation = x*y + x+y - 37\n",
    "    if equation>0:\n",
    "         equation = 6\n",
    "    else: equation = 37\n",
    "    return equation\n",
    "\n",
    "x = 2.718\n",
    "y = 0.577\n",
    "function(x, y)"
   ]
  },
  {
   "cell_type": "code",
   "execution_count": null,
   "metadata": {},
   "outputs": [],
   "source": [
    "# The following codes can be write as a function.\n",
    "def function(x, y):\n",
    "    equation = x*y + x+y - 37\n",
    "    if equation<0:\n",
    "         equation = 6\n",
    "    else: equation = 37\n",
    "    return equation\n",
    "\n",
    "x = 0\n",
    "y = 0\n",
    "function(x, y)"
   ]
  },
  {
   "cell_type": "markdown",
   "metadata": {},
   "source": [
    "#### Predefined functions like **print(), sum(), len(), min(), max(), input()**"
   ]
  },
  {
   "cell_type": "code",
   "execution_count": null,
   "metadata": {},
   "outputs": [],
   "source": [
    "# print() is a built-in function \n",
    "special_numbers = [0.577, 2.718, 3.14, 1.618, 1729, 6, 28, 37]\n",
    "print(special_numbers)"
   ]
  },
  {
   "cell_type": "code",
   "execution_count": null,
   "metadata": {},
   "outputs": [],
   "source": [
    "# The function sum() add all elements in a list or a tuple\n",
    "sum(special_numbers)"
   ]
  },
  {
   "cell_type": "code",
   "execution_count": null,
   "metadata": {},
   "outputs": [],
   "source": [
    "# The function len() gives us the length of the list or tuple\n",
    "len(special_numbers)"
   ]
  },
  {
   "cell_type": "markdown",
   "metadata": {},
   "source": [
    "#### Using conditions and loops in functions"
   ]
  },
  {
   "cell_type": "code",
   "execution_count": null,
   "metadata": {},
   "outputs": [],
   "source": [
    "# Define a function including conditions if/else\n",
    "\n",
    "def fermentation(microorganism, substrate, product, activity):\n",
    "    print(microorganism, substrate, product, activity)\n",
    "    if activity < 1000:\n",
    "        return f'The fermentation process was unsuccessful with the {product} activity of {activity} U/mL from {substrate} using {microorganism}. You should repeat the fermentation process.'\n",
    "    else:\n",
    "        return f'The fermentation process was successful with the {product} activity of {activity} U/mL from {substrate} using {microorganism}.'\n",
    "\n",
    "result1 = fermentation('Aspergillus niger', 'molasses', 'inulinase', 1800)\n",
    "print(result1)\n",
    "print()\n",
    "result2 = fermentation('Aspergillus niger', 'molasses', 'inulinase', 785)\n",
    "print(result2)\n"
   ]
  },
  {
   "cell_type": "code",
   "execution_count": null,
   "metadata": {},
   "outputs": [],
   "source": [
    "# Define a function using the loop 'for'\n",
    "\n",
    "def fermentation(content):\n",
    "    for parameters in content:\n",
    "        print(parameters)\n",
    "\n",
    "content = ['Stirred-tank bioreactor' ,'30°C temperature', '200 rpm agitation speed', '1 vvm aeration', '1% (v/v) inoculum ratio', 'pH control at 5.0', ]\n",
    "fermentation(content)"
   ]
  },
  {
   "cell_type": "markdown",
   "metadata": {},
   "source": [
    "#### Adjustiing default values of independent variables in functions"
   ]
  },
  {
   "cell_type": "code",
   "execution_count": null,
   "metadata": {},
   "outputs": [],
   "source": [
    "# Define a function adjusting the default value of the variable\n",
    "\n",
    "def rating_value(rating = 5.5):\n",
    "    if rating < 8:\n",
    "        return f'You should not watch this film with the rating value of {rating}'\n",
    "    else:\n",
    "        return f'You should watch this film with the rating value of {rating}'\n",
    "\n",
    "print(rating_value())\n",
    "print(rating_value(8.6))"
   ]
  },
  {
   "cell_type": "markdown",
   "metadata": {},
   "source": [
    "#### Global variables\n",
    "\n",
    "* Variables that are created outside of a function (as in all of the examples above) are known as global variables. \n",
    "* Global variables can be used by everyone, both inside of functions and outside."
   ]
  },
  {
   "cell_type": "code",
   "execution_count": null,
   "metadata": {},
   "outputs": [],
   "source": [
    "# Define a function for a global variable\n",
    "language = 'Python'\n",
    "\n",
    "def lang(language):\n",
    "    global_var = language\n",
    "    print(f'{language} is a program language.')\n",
    "\n",
    "lang(language)\n",
    "lang(global_var)\n",
    "\n",
    "\"\"\"\n",
    "The output gives a NameError, since all variables in the function are local variables, \n",
    "so variable assignment is not persistent outside the function.\n",
    "\"\"\""
   ]
  },
  {
   "cell_type": "code",
   "execution_count": null,
   "metadata": {},
   "outputs": [],
   "source": [
    "# Define a function for a global variable\n",
    "language = 'JavaScript'\n",
    "\n",
    "def lang(language):\n",
    "    global global_var\n",
    "    global_var = 'Python'\n",
    "    print(f'{language} is a programing language.')\n",
    "\n",
    "lang(language)\n",
    "lang(global_var)"
   ]
  },
  {
   "cell_type": "markdown",
   "metadata": {},
   "source": [
    "#### Variables in functions\n",
    "* The scope of a variable is the part of the program to which that variable is accessible.\n",
    "* Variables declared outside of all function definitions can be accessed from anywhere in the program.\n",
    "* Consequently, such variables are said to have global scope and are known as global variables."
   ]
  },
  {
   "cell_type": "code",
   "execution_count": null,
   "metadata": {},
   "outputs": [],
   "source": [
    "process = 'Continuous fermentation'\n",
    "\n",
    "def fermentation(process_name):\n",
    "    if process_name == process:\n",
    "        return '0.5 g/L/h.'\n",
    "    else:\n",
    "        return '0.25 g/L/h.'\n",
    "\n",
    "print('The productiovity in continuous fermentation is', fermentation('Continuous fermentation'))\n",
    "print('The productiovity in batch fermentation is', fermentation('Batch fermentation'))\n",
    "print('Continuous fermentation has many advantages over batch fermentation.')\n",
    "print(f'My favourite process is {process}.')"
   ]
  },
  {
   "cell_type": "code",
   "execution_count": null,
   "metadata": {},
   "outputs": [],
   "source": [
    "# If the variable 'process' is deleted, it returns a NameError as follows\n",
    "del process\n",
    "\n",
    "# Since the variable 'process' is deleted, the following function is an example of local variable\n",
    "def fermentation(process_name):\n",
    "    process = 'Continuous fermentation'\n",
    "    if process_name == process:\n",
    "        return '0.5 g/L/h.'\n",
    "    else:\n",
    "        return '0.25 g/L/h.'\n",
    "\n",
    "print('The productiovity in continuous fermentation is', fermentation('Continuous fermentation'))\n",
    "print('The productiovity in batch fermentation is', fermentation('Batch fermentation'))\n",
    "print('Continuous fermentation has many advantages over batch fermentation.')\n",
    "print(f'My favourite process is {process}.')"
   ]
  },
  {
   "cell_type": "code",
   "execution_count": null,
   "metadata": {},
   "outputs": [],
   "source": [
    "# When the global variable and local variable have the same name:\n",
    "\n",
    "process = 'Continuous fermentation'\n",
    "\n",
    "def fermentation(process_name):\n",
    "    process = 'Batch fermentation'\n",
    "    if process_name == process:\n",
    "        return '0.5 g/L/h.'\n",
    "    else:\n",
    "        return '0.25 g/L/h.'\n",
    "\n",
    "print('The productiovity in continuous fermentation is', fermentation('Continuous fermentation'))\n",
    "print('The productiovity in batch fermentation is', fermentation('Batch fermentation'))\n",
    "print(f'My favourite process is {process}.')"
   ]
  },
  {
   "cell_type": "markdown",
   "metadata": {},
   "source": [
    "#### (*args) and/or (**args)  and Functions\n",
    "\n",
    "When the number of arguments are unkknown for a function, then the arguments can be packet into a tuple or a dictionary\n",
    "\n",
    "What is Python *args ?\n",
    "The special syntax *args in function definitions in python is used to pass a variable number of arguments to a function. It is used to pass a non-key worded, variable-length argument list. \n",
    "\n",
    "The syntax is to use the symbol * to take in a variable number of arguments; by convention, it is often used with the word args.    \n",
    "What *args allows you to do is take in more arguments than the number of formal arguments that you previously defined. With *args, any number of extra arguments can be tacked on to your current formal parameters (including zero extra arguments).  \n",
    "For example, we want to make a multiply function that takes any number of arguments and is able to multiply them all together. It can be done using *args.  \n",
    "Using the *, the variable that we associate with the * becomes an iterable meaning you can do things like iterate over it, run some higher-order functions such as map and filter, etc."
   ]
  },
  {
   "cell_type": "code",
   "execution_count": null,
   "metadata": {},
   "outputs": [],
   "source": [
    "def myFun(*argv):\n",
    "    for arg in argv:\n",
    "        print(arg)\n",
    " \n",
    " \n",
    "myFun('Hello', 'Welcome', 'to', 'GeeksforGeeks')"
   ]
  },
  {
   "cell_type": "code",
   "execution_count": null,
   "metadata": {},
   "outputs": [],
   "source": [
    "# Define a function regarding a tuple example\n",
    "def function(*args):\n",
    "    print('Number of elements is', len(args))\n",
    "    for element in args:\n",
    "        print(element)\n",
    "\n",
    "function('Aspergillus niger', 'inulinase', 'batch', '1800 U/mL activity')\n",
    "print()\n",
    "function('Saccharomyces cerevisia', 'ethanol', 'continuous', '45% yield', 'carob')\n"
   ]
  },
  {
   "cell_type": "code",
   "execution_count": null,
   "metadata": {},
   "outputs": [],
   "source": [
    "# Another example regarding 'args'\n",
    "def total(*args):\n",
    "    total = 0\n",
    "    for i in args:\n",
    "        total += i\n",
    "    return total\n",
    "\n",
    "print('The total of the numbers is', total(0.577, 2.718, 3.14, 1.618, 1729, 6, 37))"
   ]
  },
  {
   "cell_type": "markdown",
   "metadata": {},
   "source": [
    "What is Python **kwargs\n",
    "The special syntax **kwargs in function definitions in python is used to pass a keyworded, variable-length argument list. We use the name kwargs with the double star. The reason is that the double star allows us to pass through keyword arguments (and any number of them).\n",
    "\n",
    "A keyword argument is where you provide a name to the variable as you pass it into the function.\n",
    "One can think of the kwargs as being a dictionary that maps each keyword to the value that we pass alongside it. That is why when we iterate over the kwargs there doesn’t seem to be any order in which they were printed out."
   ]
  },
  {
   "cell_type": "code",
   "execution_count": null,
   "metadata": {},
   "outputs": [],
   "source": [
    "def myFun(**kwargs):\n",
    "    for key, value in kwargs.items():\n",
    "        print(\"%s == %s\" % (key, value))\n",
    " \n",
    " \n",
    "# Driver code\n",
    "myFun(first='Mercer', mid='for', last='Mercer')"
   ]
  },
  {
   "cell_type": "code",
   "execution_count": null,
   "metadata": {},
   "outputs": [],
   "source": [
    "# Define a function regarding a dictionary example\n",
    "def function(**args):\n",
    "    for key in args:\n",
    "        print(key, ':', args[key])\n",
    "\n",
    "function(Micoorganism='Aspergillus niger', Substrate='Molasses', Product='Inulinase', Fermentation_mode='Batch', Activity='1800 U/mL')"
   ]
  },
  {
   "cell_type": "code",
   "execution_count": null,
   "metadata": {},
   "outputs": [],
   "source": [
    "# Define a function regarding the addition of elements into a list\n",
    "def addition(nlist):\n",
    "    nlist.append(3.14)\n",
    "    nlist.append(1.618)\n",
    "    nlist.append(1729)\n",
    "    nlist.append(6)\n",
    "    nlist.append(37)\n",
    "\n",
    "my_list= [0.577, 2.718]\n",
    "addition(my_list)\n",
    "print(my_list)\n",
    "print(sum(my_list))\n",
    "print(min(my_list))\n",
    "print(max(my_list))\n",
    "print(len(my_list))"
   ]
  },
  {
   "cell_type": "markdown",
   "metadata": {},
   "source": [
    "#### Doctsting in Functions"
   ]
  },
  {
   "cell_type": "code",
   "execution_count": null,
   "metadata": {},
   "outputs": [],
   "source": [
    "# Define a function\n",
    "def addition(x, y):\n",
    "    \"\"\"The following function returns the sum of two parameters.\"\"\"\n",
    "    z = x+y\n",
    "    return z\n",
    "\n",
    "print(addition.__doc__)\n",
    "print(addition(3.14, 2.718))"
   ]
  },
  {
   "cell_type": "code",
   "execution_count": null,
   "metadata": {},
   "outputs": [],
   "source": [
    "dir(addition)"
   ]
  },
  {
   "cell_type": "markdown",
   "metadata": {},
   "source": [
    "#### Recursive functions"
   ]
  },
  {
   "cell_type": "code",
   "execution_count": null,
   "metadata": {},
   "outputs": [],
   "source": [
    "# Calculating the factorial of a certain number.\n",
    "\n",
    "def factorial(number):\n",
    "    if number == 0:\n",
    "        return 1\n",
    "    else:\n",
    "        return number*factorial(number-1)\n",
    "\n",
    "print('The value is', factorial(0))"
   ]
  },
  {
   "cell_type": "code",
   "execution_count": null,
   "metadata": {},
   "outputs": [],
   "source": [
    "# Define a function that gives the total of the first ten numbers\n",
    "def total_numbers(number, sum):\n",
    "    if number == 11:\n",
    "        return sum\n",
    "    else:\n",
    "        return total_numbers(number+1, sum+number)\n",
    "\n",
    "print('The total of first ten numbers is', total_numbers(3, 0))"
   ]
  },
  {
   "cell_type": "markdown",
   "metadata": {},
   "source": [
    "#### Nested functions\n"
   ]
  },
  {
   "cell_type": "code",
   "execution_count": null,
   "metadata": {},
   "outputs": [],
   "source": [
    "# Define a function that add a number to another number \n",
    "def added_num(num1):\n",
    "    def incremented_num(num1):\n",
    "        num1 = num1 + 1\n",
    "        return num1\n",
    "    num2 = incremented_num(num1)\n",
    "    print(num1, '------->>', num2)\n",
    "\n",
    "added_num(25)"
   ]
  },
  {
   "cell_type": "code",
   "execution_count": 37,
   "metadata": {},
   "outputs": [
    {
     "name": "stdout",
     "output_type": "stream",
     "text": [
      "Enter a name: Mo Medwani\n"
     ]
    },
    {
     "data": {
      "text/plain": [
       "'Hi Mo Medwani'"
      ]
     },
     "execution_count": 37,
     "metadata": {},
     "output_type": "execute_result"
    }
   ],
   "source": [
    "# Define a function giving a message\n",
    "def function(name):\n",
    "    msg = 'Hi ' + name\n",
    "    return msg\n",
    "\n",
    "name = input('Enter a name: ')\n",
    "name\n",
    "function(name)"
   ]
  },
  {
   "cell_type": "markdown",
   "metadata": {},
   "source": [
    "#### **nonlocal** function"
   ]
  },
  {
   "cell_type": "markdown",
   "metadata": {},
   "source": [
    "In this example, we defined a function called outer.\n",
    "\n",
    "Inside the outer function, we defined another function called inner. And we called the inner function from the inside of the outer function.\n",
    "\n",
    "Often, we say that the inner function is nested in the outer function. In practice, you define nested functions when you don’t want these functions to be global.\n",
    "\n",
    "Both outer and inner have access to the global and built-in scopes as well as their local scopes.\n",
    "\n",
    "And the inner function also has access to its enclosing scope, which is the scope of the outer function.\n",
    "\n",
    "From the inner() function perspective, its enclosing scope is neither local nor global. And Python calls this a nonlocal scope.\n",
    "\n",
    "Let’s modify the outer and inner functions:"
   ]
  },
  {
   "cell_type": "code",
   "execution_count": null,
   "metadata": {},
   "outputs": [],
   "source": [
    "def outer():\n",
    "    print('outer function')\n",
    "\n",
    "    def inner():\n",
    "        print('inner function')\n",
    "\n",
    "    inner()\n",
    "\n",
    "\n",
    "outer()"
   ]
  },
  {
   "cell_type": "code",
   "execution_count": null,
   "metadata": {},
   "outputs": [],
   "source": [
    "def outer():\n",
    "    message = 'outer function'\n",
    "    print(message)\n",
    "\n",
    "    def inner():\n",
    "        print(message)\n",
    "\n",
    "    inner()\n",
    "\n",
    "\n",
    "outer()"
   ]
  },
  {
   "cell_type": "markdown",
   "metadata": {},
   "source": [
    "When we call the outer function, Python creates the inner function and executes it.\n",
    "\n",
    "When the inner function executes, Python doesn’t find the message variable in the local scope. So Python looks for it in the enclosing scope, which is the scope of the outer function:"
   ]
  },
  {
   "cell_type": "code",
   "execution_count": null,
   "metadata": {},
   "outputs": [],
   "source": [
    "# Define a function regarding 'nonlocal' function\n",
    "def print_year():\n",
    "    year = 1990\n",
    "    def print_current_year():\n",
    "        nonlocal year\n",
    "        year += 32\n",
    "        print('Current year is', year)\n",
    "    print_current_year()\n",
    "print_year()"
   ]
  },
  {
   "cell_type": "code",
   "execution_count": null,
   "metadata": {},
   "outputs": [],
   "source": []
  }
 ],
 "metadata": {
  "interpreter": {
   "hash": "b7377f19eab4b8c2e19b4d5b732c435591579d0f123dd21b146d33dfd161e508"
  },
  "kernelspec": {
   "display_name": "Python 3",
   "language": "python",
   "name": "python3"
  },
  "language_info": {
   "codemirror_mode": {
    "name": "ipython",
    "version": 3
   },
   "file_extension": ".py",
   "mimetype": "text/x-python",
   "name": "python",
   "nbconvert_exporter": "python",
   "pygments_lexer": "ipython3",
   "version": "3.9.13"
  },
  "toc": {
   "base_numbering": 1,
   "nav_menu": {},
   "number_sections": true,
   "sideBar": true,
   "skip_h1_title": false,
   "title_cell": "Table of Contents",
   "title_sidebar": "Contents",
   "toc_cell": false,
   "toc_position": {},
   "toc_section_display": true,
   "toc_window_display": false
  }
 },
 "nbformat": 4,
 "nbformat_minor": 2
}
